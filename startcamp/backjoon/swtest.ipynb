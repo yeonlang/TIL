{
 "cells": [
  {
   "cell_type": "code",
   "execution_count": null,
   "metadata": {},
   "outputs": [],
   "source": [
    "def my_map(a):\n",
    "    lst1=[3,6,9]\n",
    "    lst2=list(a)\n",
    "    str1=''\n",
    "    for i in range(len(lst2)):\n",
    "        if int(lst2[i]) in lst1:\n",
    "            lst2[i]='-'\n",
    "    for j in lst2:\n",
    "        str1=str1+j\n",
    "    return str1\n",
    "\n",
    "n=int(input())\n",
    "count=0\n",
    "for k in range(1,n+1):\n",
    "    if '-' in my_map(str(k)):\n",
    "        count=my_map(str(k)).count('-')\n",
    "        print('-'*count+' ',end='')\n",
    "    else:\n",
    "        print(f'{k} ', end='')        \n",
    "    \n",
    "       \n",
    "    \n",
    "    "
   ]
  },
  {
   "cell_type": "code",
   "execution_count": null,
   "metadata": {},
   "outputs": [],
   "source": [
    "#4828 파이썬 문제해결 기본 1일차 min max\n",
    "case=int(input())\n",
    "for t in range(1,case+1):\n",
    "    num=[0 for i in range(int(input()))]\n",
    "    lst=list(map(int,input().split()))\n",
    "    lst.sort()\n",
    "    result=lst[-1]-lst[0]\n",
    "    print(f'#{t} {result}')   "
   ]
  },
  {
   "cell_type": "code",
   "execution_count": null,
   "metadata": {},
   "outputs": [],
   "source": [
    "#4831 파이썬 문제해결 기본 1일차 전기버스\n",
    "\n",
    "#머릿속 알고리즘\n",
    "#3개를 받아온다.\n",
    "#m개를 받아온다.\n",
    "#k보다 같거나 작은 최대값의 원소 주소를 찾는다.\n",
    "#k값을 기준으로 k보다 같거나 작은 최대값의 원소 주소를 찾는다. \n",
    "#위와 같은 과정을 통하여 충전을 할 시 카운트+1을 한다. \n",
    "#만약 다음원소와의 차이>k일 경우 0을 출력한다.\n",
    "\n",
    "T = int(input())\n",
    "for test_case in range(1, T + 1):\n",
    "    K, N, M = map(int, input().split())\n",
    "    #최대이동거리, 총 거리, 충전소의수\n",
    "    lst = list(map(int, input().split()))\n",
    "    lst1 = [i for i in range(N+1)]\n",
    "    lst2 = [0 for i in range(N+1)]\n",
    "\n",
    "    for i in lst:\n",
    "        lst2[i]+=1\n",
    "    position=0\n",
    "    start=1\n",
    "    count=0\n",
    "    while position+K<N:\n",
    "        lst3=lst2[start:position+K+1]\n",
    "        if not 1 in lst3:\n",
    "            count=0\n",
    "            break\n",
    "        lst3.reverse()\n",
    "        for i,j in enumerate(lst3):\n",
    "            if j==1:\n",
    "                position+=len(lst3)-i\n",
    "                start=position+1\n",
    "                lst3.reverse()\n",
    "                count+=1\n",
    "                break\n",
    "    print(f'#{test_case} {count}')    \n"
   ]
  },
  {
   "cell_type": "code",
   "execution_count": null,
   "metadata": {},
   "outputs": [],
   "source": [
    "def my_mul(*a):\n",
    "    mul=1\n",
    "    for x in a:\n",
    "        mul=mul*x\n",
    "    return mul\n",
    "\n",
    "print(my_mul(6))  \n",
    "print(my_mul(3, 5))\n",
    "\n",
    "\n",
    "\n"
   ]
  },
  {
   "cell_type": "code",
   "execution_count": null,
   "metadata": {},
   "outputs": [],
   "source": [
    "N=4\n",
    "lst=[[0]*N for i in range(N)]\n",
    "lst"
   ]
  },
  {
   "cell_type": "code",
   "execution_count": null,
   "metadata": {},
   "outputs": [],
   "source": [
    "N,M=5,3\n",
    "lst=[[] for i in range(N)]\n",
    "for u in range(N):\n",
    "    lst[u]=list(map(int,input().split()))\n",
    "print(lst)\n",
    "my_max=0\n",
    "for i in range(N-M+1):\n",
    "    for j in range(N-M+1):\n",
    "        my_sum=0\n",
    "        for k in range(M):\n",
    "            my_sum+=sum(lst[i+k][j:j+N-M+1])\n",
    "        my_max=max(my_max,my_sum)\n",
    "print(my_max)"
   ]
  },
  {
   "cell_type": "code",
   "execution_count": null,
   "metadata": {},
   "outputs": [],
   "source": [
    "word=input()\n",
    "print(f\"{True if word==word[::-1] else False}\")"
   ]
  },
  {
   "cell_type": "code",
   "execution_count": null,
   "metadata": {},
   "outputs": [],
   "source": []
  },
  {
   "cell_type": "code",
   "execution_count": null,
   "metadata": {},
   "outputs": [],
   "source": [
    "column=[[7, 3, 6, 4, 2, 9, 5, 8, 1],[5, 8, 9, 1, 6, 7, 3, 2, 4],[2, 1, 4, 5, 8, 3, 6, 9, 7],[8, 4, 7, 9, 3, 6, 1, 5, 2],[1, 5, 3, 8, 4, 2, 9, 7, 6],[9, 6, 2, 7, 5, 1, 8, 4, 3],[4, 2, 1, 3, 9, 8, 7, 6, 5],[3, 9, 5, 6, 7, 4, 2, 1, 8],[6, 7, 8, 2, 1, 5, 4, 3, 9]]\n",
    "for k in range(9):\n",
    "    d=column[0][0:1]+column[1][k]+column[2][k]+column[3][k]+column[4][k]+column[5][k]+column[6][k]+column[7][k]+column[8][k]\n",
    "    print(d)"
   ]
  },
  {
   "cell_type": "code",
   "execution_count": null,
   "metadata": {},
   "outputs": [],
   "source": [
    "for tc in range(int(input())):\n",
    "    lst=list(map(int,input().split()))\n",
    "    lst.pop(lst.index(max(lst)))\n",
    "    lst.pop(lst.index(min(lst)))\n",
    "    int(sum(lst)/len(lst))\n",
    "    print(f'#{tc+1} {round(sum(lst)/len(lst))}')\n",
    "\n",
    "    "
   ]
  },
  {
   "cell_type": "code",
   "execution_count": null,
   "metadata": {},
   "outputs": [],
   "source": [
    "def my_func(lst,n):\n",
    "    money=(50000,10000,5000,1000,500,100,50,10)\n",
    "    for i,j in enumerate(money):\n",
    "        if n//j:\n",
    "            lst[i]=str(n//j)\n",
    "            n=n%j\n",
    "for tc in range(int(input())):\n",
    "    lst1=['0','0','0','0','0','0','0','0']\n",
    "    n=int(input())\n",
    "    my_func(lst1,n)\n",
    "    print(f'#{tc+1} {\" \".join(lst1)}') "
   ]
  },
  {
   "cell_type": "code",
   "execution_count": null,
   "metadata": {},
   "outputs": [],
   "source": [
    "for tc in range(int(input())):\n",
    "    n=int(input())\n",
    "    m=list(map(int,input().split()))\n",
    "    m.sort()\n",
    "    print(m)\n"
   ]
  },
  {
   "cell_type": "code",
   "execution_count": null,
   "metadata": {},
   "outputs": [],
   "source": [
    "for tc in range(int(input())):\n",
    "    n,m=map(int, input().split())\n",
    "    in_str=[list(input()) for i in range(n)]\n",
    "    column=list(zip(*in_str))\n",
    "    bools=True\n",
    "    for i in range(n):\n",
    "        if bools:\n",
    "            for j in range(n-m+1):\n",
    "                test=in_str[i][j:m+j]\n",
    "                if test == test[::-1] :\n",
    "                    print(test)\n",
    "                    bools=False\n",
    "                    break\n",
    "        else:\n",
    "            break\n",
    "        if bools:\n",
    "            for k in range(n-m+1):\n",
    "                test=in_str[i][j:m+j]\n",
    "                if test==column[i][k:m+k] :\n",
    "                    print(test)\n",
    "                    bools=False\n",
    "                    break\n",
    "        else:\n",
    "            break\n"
   ]
  },
  {
   "cell_type": "code",
   "execution_count": null,
   "metadata": {},
   "outputs": [],
   "source": [
    "n=int(input())\n",
    "a=int(n*(n+1)/2)\n",
    "b=n*n\n",
    "c=n*(n+1)\n",
    "print(f'{a} {b} {c}')"
   ]
  },
  {
   "cell_type": "code",
   "execution_count": 2,
   "metadata": {},
   "outputs": [
    {
     "name": "stdout",
     "output_type": "stream",
     "text": [
      "앞문\n",
      "김영훈조현진신인택박재휘\n",
      "강대현강현구윤종원이지현엄윤주\n",
      "김교훈박재형조영현하창언김유림\n",
      "이규진권령경진민재서민호송현우\n",
      "이현수권민재양도혁김미진여성우\n",
      "서민수뒷문\n"
     ]
    }
   ],
   "source": [
    "import random as ra\n",
    "\n",
    "name=[('권령경',1), ('김영훈',1), ('조현진',1), ('조영현',1), ('김유림',1),\n",
    "('김미진',2), ('송현우',2), ('신인택',2), ('서민수',2), ('엄윤주',2),\n",
    "('강현구',3), ('여성우',3), ('양도혁',3), ('하창언',3), ('박재휘',3),\n",
    "('이지현',4), ('서민호',4), ('진민재',4), ('이현수',4), ('권민재',4),\n",
    "('김교훈',5), ('박재형',5), ('윤종원',5), ('강대현',5), ('이규진',5)]\n",
    "\n",
    "bools=True\n",
    "while bools:\n",
    "    ra.shuffle(name)\n",
    "    for i,j in enumerate(name):\n",
    "        if j[1] == (i+1)//5+1:\n",
    "            continue\n",
    "    bools=False\n",
    "\n",
    "print(\"앞문\")\n",
    "for k,l in enumerate(name):\n",
    "    if (k+1)%5==0:\n",
    "        print(\"\")\n",
    "    print(f'{l[0]}', end=\"\")\n",
    "\n",
    "print(\"뒷문\")"
   ]
  },
  {
   "cell_type": "code",
   "execution_count": 7,
   "metadata": {},
   "outputs": [
    {
     "name": "stdout",
     "output_type": "stream",
     "text": [
      "3\n",
      "1(은)는 3의 약수입니다.\n",
      "3(은)는 3의 약수입니다.\n",
      "3(은)는 1과 3로만 나눌 수 있는 소수입니다.\n"
     ]
    }
   ],
   "source": [
    "x = int(input())\n",
    "lst=[] #약수를 저장\n",
    "for i in range(1,x+1):\n",
    "    if x%i==0:\n",
    "        print(f'{i}(은)는 {x}의 약수입니다.')\n",
    "        lst.append(i)\n",
    "if len(lst)==2:\n",
    "    print(f'{x}(은)는 {lst[0]}과 {lst[1]}로만 나눌 수 있는 소수입니다.')\n",
    "        "
   ]
  },
  {
   "cell_type": "code",
   "execution_count": 1,
   "metadata": {},
   "outputs": [
    {
     "name": "stdout",
     "output_type": "stream",
     "text": [
      "MAL·MO·E: The Secret Mission  20190109 135 드라마 엄유나 12세이상관람가 유해진 윤계상 김홍파\n"
     ]
    }
   ],
   "source": [
    "kobis2={'movieInfoResult': \n",
    "                    {'movieInfo': \n",
    "                                    {'movieCd': '20184105', 'movieNm': '말모이', 'movieNmEn': 'MAL·MO·E: The Secret Mission', 'movieNmOg': '', 'showTm': '135', 'prdtYear': '2018', 'openDt': '20190109', 'prdtStatNm': '개봉', 'typeNm': '장편', \n",
    "                                    'nations': [{'nationNm': '한국'}], \n",
    "                                    'genres':  [{'genreNm': '드라마'}], \n",
    "                                    'directors': [{'peopleNm': '엄유나', 'peopleNmEn': 'EOM Yuna'}], \n",
    "                                    'actors':  [{'peopleNm': '유해진', 'peopleNmEn': 'YOO Hae-jin', 'cast': '', 'castEn': ''}, \n",
    "                                               {'peopleNm': '윤계상', 'peopleNmEn': 'YOON Kye-sang', 'cast': '', 'castEn': ''}, \n",
    "                                               {'peopleNm': '김홍파', 'peopleNmEn': 'KIM Hong-pa', 'cast': '', 'castEn': ''}, \n",
    "                                               {'peopleNm': '우현', 'peopleNmEn': 'WOO Hyun', 'cast': '', 'castEn': ''},\n",
    "                                               {'peopleNm': '김태훈', 'peopleNmEn': 'KIM Tae-hun', 'cast': '', 'castEn': ''},\n",
    "                                               {'peopleNm': '김선영', 'peopleNmEn': 'KIM Sun-young', 'cast': '', 'castEn': ''}, \n",
    "                                               {'peopleNm': '민진웅', 'peopleNmEn': 'MIN Jin-woong', 'cast': '', 'castEn': ''}], \n",
    "                                    'showTypes': [{'showTypeGroupNm': '2D', 'showTypeNm': '디지털'}, {'showTypeGroupNm': '2D', 'showTypeNm': '디지털 영문자막'}], \n",
    "                                    'companys':  [{'companyCd': '20124216', 'companyNm': '더램프(주)', 'companyNmEn': 'The LAMP ltd.', 'companyPartNm': '제작사'}, \n",
    "                                                 {'companyCd': '20188021', 'companyNm': '롯데컬처웍스(주)롯데엔터테인먼트', 'companyNmEn': 'Lotte Cultureworks Lotte Entertainment Co.,Ltd', 'companyPartNm': '배급사'}, \n",
    "                                                 {'companyCd': '20188021', 'companyNm': '롯데컬처웍스(주)롯데엔터테인먼트', 'companyNmEn': 'Lotte Cultureworks Lotte Entertainment Co.,Ltd', 'companyPartNm': '제공'}, \n",
    "                                                 {'companyCd': '20188021', 'companyNm': '롯데컬처웍스(주)롯데엔터테인먼트', 'companyNmEn': 'Lotte Cultureworks Lotte Entertainment Co.,Ltd', 'companyPartNm': '해외세일즈사'}], \n",
    "                                    'audits':   [{'auditNo': '2018-MF02396', 'watchGradeNm': '12세이상관람가'}], \n",
    "                                    'staffs': [{'peopleNm': '박은경', 'peopleNmEn': 'PARK Eun-kyung', 'staffRoleNm': '제작'}, \n",
    "                                                {'peopleNm': '엄유나', 'peopleNmEn': 'EOM Yuna', 'staffRoleNm': '시나리오(각본)'}, \n",
    "                                                {'peopleNm': '윤서영', 'peopleNmEn': '', 'staffRoleNm': '프로듀서'}]}, \n",
    "                    'source': '영화진흥위원회'}}\n",
    "\n",
    "#영화명(영문), 영화명(원문) , 개봉연도, 상영시간, \n",
    "\n",
    "movieNmEn = kobis2['movieInfoResult']['movieInfo']['movieNmEn']\n",
    "movieNmOg =kobis2['movieInfoResult']['movieInfo']['movieNmOg']\n",
    "openDt =kobis2['movieInfoResult']['movieInfo']['openDt']\n",
    "showTm =kobis2['movieInfoResult']['movieInfo']['showTm']\n",
    "\n",
    "#장르, 감독명, 관람등급, 배우1, 배우2, 배우3\n",
    "genreNm =kobis2['movieInfoResult']['movieInfo']['genres'][0]['genreNm']\n",
    "director =kobis2['movieInfoResult']['movieInfo']['directors'][0]['peopleNm']\n",
    "watchGradeNm =kobis2['movieInfoResult']['movieInfo']['audits'][0]['watchGradeNm']\n",
    "actor1 =kobis2['movieInfoResult']['movieInfo']['actors'][0]['peopleNm']\n",
    "actor2 =kobis2['movieInfoResult']['movieInfo']['actors'][1]['peopleNm']\n",
    "actor3 =kobis2['movieInfoResult']['movieInfo']['actors'][2]['peopleNm']\n",
    "print(movieNmEn,movieNmOg,openDt,showTm,genreNm,director,watchGradeNm,actor1,actor2,actor3)"
   ]
  },
  {
   "cell_type": "code",
   "execution_count": 4,
   "metadata": {},
   "outputs": [
    {
     "name": "stdout",
     "output_type": "stream",
     "text": [
      "{'영화명(국문)': '말모이', '영화명(영문)': 'MAL·MO·E: The Secret Mission', '영화명(원문)': '', '개봉연도': '20190109', '상영시간': '135', '장르': '드라마', '감독명': '엄유나', '관람등급': '12세이상관람가', '배우1': '유해진', '배우2': '', '배우3': ''}\n"
     ]
    }
   ],
   "source": [
    "kobis2={'movieInfoResult': \n",
    "                    {'movieInfo': \n",
    "                                    {'movieCd': '20184105', 'movieNm': '말모이', 'movieNmEn': 'MAL·MO·E: The Secret Mission', 'movieNmOg': '', 'showTm': '135', 'prdtYear': '2018', 'openDt': '20190109', 'prdtStatNm': '개봉', 'typeNm': '장편', \n",
    "                                    'nations': [{'nationNm': '한국'}], \n",
    "                                    'genres':  [{'genreNm': '드라마'}], \n",
    "                                    'directors': [{'peopleNm': '엄유나', 'peopleNmEn': 'EOM Yuna'}], \n",
    "                                    'actors':  [{'peopleNm': '유해진', 'peopleNmEn': 'YOO Hae-jin', 'cast': '', 'castEn': ''}, \n",
    "                                               {'peopleNm': '윤계상', 'peopleNmEn': 'YOON Kye-sang', 'cast': '', 'castEn': ''}, \n",
    "                                               {'peopleNm': '김홍파', 'peopleNmEn': 'KIM Hong-pa', 'cast': '', 'castEn': ''}, \n",
    "                                               {'peopleNm': '우현', 'peopleNmEn': 'WOO Hyun', 'cast': '', 'castEn': ''},\n",
    "                                               {'peopleNm': '김태훈', 'peopleNmEn': 'KIM Tae-hun', 'cast': '', 'castEn': ''},\n",
    "                                               {'peopleNm': '김선영', 'peopleNmEn': 'KIM Sun-young', 'cast': '', 'castEn': ''}, \n",
    "                                               {'peopleNm': '민진웅', 'peopleNmEn': 'MIN Jin-woong', 'cast': '', 'castEn': ''}], \n",
    "                                    'showTypes': [{'showTypeGroupNm': '2D', 'showTypeNm': '디지털'}, {'showTypeGroupNm': '2D', 'showTypeNm': '디지털 영문자막'}], \n",
    "                                    'companys':  [{'companyCd': '20124216', 'companyNm': '더램프(주)', 'companyNmEn': 'The LAMP ltd.', 'companyPartNm': '제작사'}, \n",
    "                                                 {'companyCd': '20188021', 'companyNm': '롯데컬처웍스(주)롯데엔터테인먼트', 'companyNmEn': 'Lotte Cultureworks Lotte Entertainment Co.,Ltd', 'companyPartNm': '배급사'}, \n",
    "                                                 {'companyCd': '20188021', 'companyNm': '롯데컬처웍스(주)롯데엔터테인먼트', 'companyNmEn': 'Lotte Cultureworks Lotte Entertainment Co.,Ltd', 'companyPartNm': '제공'}, \n",
    "                                                 {'companyCd': '20188021', 'companyNm': '롯데컬처웍스(주)롯데엔터테인먼트', 'companyNmEn': 'Lotte Cultureworks Lotte Entertainment Co.,Ltd', 'companyPartNm': '해외세일즈사'}], \n",
    "                                    'audits':   [{'auditNo': '2018-MF02396', 'watchGradeNm': '12세이상관람가'}], \n",
    "                                    'staffs': [{'peopleNm': '박은경', 'peopleNmEn': 'PARK Eun-kyung', 'staffRoleNm': '제작'}, \n",
    "                                                {'peopleNm': '엄유나', 'peopleNmEn': 'EOM Yuna', 'staffRoleNm': '시나리오(각본)'}, \n",
    "                                                {'peopleNm': '윤서영', 'peopleNmEn': '', 'staffRoleNm': '프로듀서'}]}, \n",
    "                    'source': '영화진흥위원회'}}   \n",
    "#영화명(국문), 영화명(영문), 영화명(원문) , 개봉연도, 상영시간 \n",
    "movieNm = kobis2['movieInfoResult']['movieInfo']['movieNm']\n",
    "movieNmEn = kobis2['movieInfoResult']['movieInfo']['movieNmEn']\n",
    "movieNmOg =kobis2['movieInfoResult']['movieInfo']['movieNmOg']\n",
    "openDt =kobis2['movieInfoResult']['movieInfo']['openDt']\n",
    "showTm =kobis2['movieInfoResult']['movieInfo']['showTm']\n",
    "\n",
    "#장르, 감독명, 관람등급, 배우1, 배우2, 배우3\n",
    "genreNm =kobis2['movieInfoResult']['movieInfo']['genres'][0]['genreNm']\n",
    "director =kobis2['movieInfoResult']['movieInfo']['directors'][0]['peopleNm']\n",
    "watchGradeNm =kobis2['movieInfoResult']['movieInfo']['audits'][0]['watchGradeNm']\n",
    "\n",
    "\n",
    "actor1,actor2,actor3='','',''\n",
    "if len(kobis2['movieInfoResult']['movieInfo']['actors'])>2:\n",
    "    actor1 =kobis2['movieInfoResult']['movieInfo']['actors'][0]['peopleNm']\n",
    "    actor2 =kobis2['movieInfoResult']['movieInfo']['actors'][1]['peopleNm']\n",
    "    actor3 =kobis2['movieInfoResult']['movieInfo']['actors'][2]['peopleNm']\n",
    "\n",
    "elif len(kobis2['movieInfoResult']['movieInfo']['actors'])>1:\n",
    "    actor1 =kobis2['movieInfoResult']['movieInfo']['actors'][0]['peopleNm']\n",
    "    actor2 =kobis2['movieInfoResult']['movieInfo']['actors'][1]['peopleNm']\n",
    "else :\n",
    "    actor1 =kobis2['movieInfoResult']['movieInfo']['actors'][0]['peopleNm']\n",
    "\n",
    "movie_info = {'영화명(국문)': movieNm,'영화명(영문)': movieNmEn,'영화명(원문)': movieNmOg, '개봉연도': openDt, '상영시간': showTm,'장르': genreNm, '감독명': director,'관람등급':watchGradeNm,'배우1':actor1,'배우2':actor2,'배우3':actor3}\n",
    "print(movie_info)"
   ]
  },
  {
   "cell_type": "code",
   "execution_count": 1,
   "metadata": {},
   "outputs": [
    {
     "name": "stdout",
     "output_type": "stream",
     "text": [
      "https://ssl.pstatic.net/imgmovie/mdi/mit110/1676/167699_P40_175859.jpg https://movie.naver.com/movie/bi/mi/basic.nhn?code=167699 9.04\n"
     ]
    }
   ],
   "source": [
    "naver={'lastBuildDate': 'Fri, 18 Jan 2019 11:05:00 +0900', 'total': 1, 'start': 1, 'display': 1, \n",
    "        'items': \n",
    "                [{'title': '<b>말모이</b>', \n",
    "                'link': 'https://movie.naver.com/movie/bi/mi/basic.nhn?code=167699', \n",
    "                'image': 'https://ssl.pstatic.net/imgmovie/mdi/mit110/1676/167699_P40_175859.jpg', \n",
    "                'subtitle': 'MAL·MO·E: The Secret Mission', \n",
    "                'pubDate': '2018', \n",
    "                'director': '엄유나|', \n",
    "                'actor': '유해진|윤계상|', \n",
    "                'userRating': '9.04'}]}\n",
    "\n",
    "#영화대표코드,썸네일이미지URL,하이퍼텍스트LINK,유저평점\n",
    "image_url = naver['items'][0]['image']\n",
    "link = naver['items'][0]['link']\n",
    "userRating = naver['items'][0]['userRating']\n",
    "print(image_url,link,userRating)"
   ]
  },
  {
   "cell_type": "code",
   "execution_count": 35,
   "metadata": {},
   "outputs": [
    {
     "data": {
      "text/plain": [
       "'액션/어드벤처/SF'"
      ]
     },
     "execution_count": 35,
     "metadata": {},
     "output_type": "execute_result"
    }
   ],
   "source": [
    "gr=[{'genreNm': '액션'}, {'genreNm': '어드벤처'}, {'genreNm': 'SF'}]\n",
    "a=''\n",
    "for k,i in enumerate(gr):\n",
    "    if k==0:\n",
    "        a=i['genreNm']\n",
    "    elif (len(gr)>1) and k>0:\n",
    "        a=a+'/'+i['genreNm']\n",
    "a"
   ]
  },
  {
   "cell_type": "code",
   "execution_count": null,
   "metadata": {},
   "outputs": [],
   "source": [
    "actor_info=[{'peopleNm': '도경수', 'peopleNmEn': 'DOH Kyung-soo', 'cast': '', 'castEn': ''}, {'peopleNm': '박혜수', 'peopleNmEn': '', 'cast': '', 'castEn': ''}, {'peopleNm': '자레드 그라임스', 'peopleNmEn': 'Jared Grimes', 'cast': '', 'castEn': ''}, {'peopleNm': '오정세', 'peopleNmEn': 'OH Jung-se', 'cast': '', 'castEn': ''}, {'peopleNm': '김민호', 'peopleNmEn': '', 'cast': '', 'castEn': ''}]\n",
    "\n",
    "actor1,actor2,actor3='','',''"
   ]
  }
 ],
 "metadata": {
  "kernelspec": {
   "display_name": "Python 3",
   "language": "python",
   "name": "python3"
  },
  "language_info": {
   "codemirror_mode": {
    "name": "ipython",
    "version": 3
   },
   "file_extension": ".py",
   "mimetype": "text/x-python",
   "name": "python",
   "nbconvert_exporter": "python",
   "pygments_lexer": "ipython3",
   "version": "3.7.1"
  }
 },
 "nbformat": 4,
 "nbformat_minor": 2
}
