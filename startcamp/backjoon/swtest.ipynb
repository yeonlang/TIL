{
 "cells": [
  {
   "cell_type": "code",
   "execution_count": null,
   "metadata": {},
   "outputs": [],
   "source": [
    "def my_map(a):\n",
    "    lst1=[3,6,9]\n",
    "    lst2=list(a)\n",
    "    str1=''\n",
    "    for i in range(len(lst2)):\n",
    "        if int(lst2[i]) in lst1:\n",
    "            lst2[i]='-'\n",
    "    for j in lst2:\n",
    "        str1=str1+j\n",
    "    return str1\n",
    "\n",
    "n=int(input())\n",
    "count=0\n",
    "for k in range(1,n+1):\n",
    "    if '-' in my_map(str(k)):\n",
    "        count=my_map(str(k)).count('-')\n",
    "        print('-'*count+' ',end='')\n",
    "    else:\n",
    "        print(f'{k} ', end='')        \n",
    "    \n",
    "       \n",
    "    \n",
    "    "
   ]
  },
  {
   "cell_type": "code",
   "execution_count": null,
   "metadata": {},
   "outputs": [],
   "source": [
    "#4828 파이썬 문제해결 기본 1일차 min max\n",
    "case=int(input())\n",
    "for t in range(1,case+1):\n",
    "    num=[0 for i in range(int(input()))]\n",
    "    lst=list(map(int,input().split()))\n",
    "    lst.sort()\n",
    "    result=lst[-1]-lst[0]\n",
    "    print(f'#{t} {result}')   "
   ]
  },
  {
   "cell_type": "code",
   "execution_count": null,
   "metadata": {},
   "outputs": [],
   "source": [
    "#4831 파이썬 문제해결 기본 1일차 전기버스\n",
    "\n",
    "#머릿속 알고리즘\n",
    "#3개를 받아온다.\n",
    "#m개를 받아온다.\n",
    "#k보다 같거나 작은 최대값의 원소 주소를 찾는다.\n",
    "#k값을 기준으로 k보다 같거나 작은 최대값의 원소 주소를 찾는다. \n",
    "#위와 같은 과정을 통하여 충전을 할 시 카운트+1을 한다. \n",
    "#만약 다음원소와의 차이>k일 경우 0을 출력한다.\n",
    "\n",
    "T = int(input())\n",
    "for test_case in range(1, T + 1):\n",
    "    K, N, M = map(int, input().split())\n",
    "    #최대이동거리, 총 거리, 충전소의수\n",
    "    lst = list(map(int, input().split()))\n",
    "    lst1 = [i for i in range(N+1)]\n",
    "    lst2 = [0 for i in range(N+1)]\n",
    "\n",
    "    for i in lst:\n",
    "        lst2[i]+=1\n",
    "    position=0\n",
    "    start=1\n",
    "    count=0\n",
    "    while position+K<N:\n",
    "        lst3=lst2[start:position+K+1]\n",
    "        if not 1 in lst3:\n",
    "            count=0\n",
    "            break\n",
    "        lst3.reverse()\n",
    "        for i,j in enumerate(lst3):\n",
    "            if j==1:\n",
    "                position+=len(lst3)-i\n",
    "                start=position+1\n",
    "                lst3.reverse()\n",
    "                count+=1\n",
    "                break\n",
    "    print(f'#{test_case} {count}')    \n"
   ]
  },
  {
   "cell_type": "code",
   "execution_count": null,
   "metadata": {},
   "outputs": [],
   "source": [
    "def my_mul(*a):\n",
    "    mul=1\n",
    "    for x in a:\n",
    "        mul=mul*x\n",
    "    return mul\n",
    "\n",
    "print(my_mul(6))  \n",
    "print(my_mul(3, 5))\n",
    "\n",
    "\n",
    "\n"
   ]
  },
  {
   "cell_type": "code",
   "execution_count": null,
   "metadata": {},
   "outputs": [],
   "source": [
    "N=4\n",
    "lst=[[0]*N for i in range(N)]\n",
    "lst"
   ]
  },
  {
   "cell_type": "code",
   "execution_count": null,
   "metadata": {},
   "outputs": [],
   "source": [
    "N,M=5,3\n",
    "lst=[[] for i in range(N)]\n",
    "for u in range(N):\n",
    "    lst[u]=list(map(int,input().split()))\n",
    "print(lst)\n",
    "my_max=0\n",
    "for i in range(N-M+1):\n",
    "    for j in range(N-M+1):\n",
    "        my_sum=0\n",
    "        for k in range(M):\n",
    "            my_sum+=sum(lst[i+k][j:j+N-M+1])\n",
    "        my_max=max(my_max,my_sum)\n",
    "print(my_max)"
   ]
  },
  {
   "cell_type": "code",
   "execution_count": null,
   "metadata": {},
   "outputs": [],
   "source": [
    "word=input()\n",
    "print(f\"{True if word==word[::-1] else False}\")"
   ]
  },
  {
   "cell_type": "code",
   "execution_count": null,
   "metadata": {},
   "outputs": [],
   "source": []
  },
  {
   "cell_type": "code",
   "execution_count": null,
   "metadata": {},
   "outputs": [],
   "source": [
    "column=[[7, 3, 6, 4, 2, 9, 5, 8, 1],[5, 8, 9, 1, 6, 7, 3, 2, 4],[2, 1, 4, 5, 8, 3, 6, 9, 7],[8, 4, 7, 9, 3, 6, 1, 5, 2],[1, 5, 3, 8, 4, 2, 9, 7, 6],[9, 6, 2, 7, 5, 1, 8, 4, 3],[4, 2, 1, 3, 9, 8, 7, 6, 5],[3, 9, 5, 6, 7, 4, 2, 1, 8],[6, 7, 8, 2, 1, 5, 4, 3, 9]]\n",
    "for k in range(9):\n",
    "    d=column[0][0:1]+column[1][k]+column[2][k]+column[3][k]+column[4][k]+column[5][k]+column[6][k]+column[7][k]+column[8][k]\n",
    "    print(d)"
   ]
  },
  {
   "cell_type": "code",
   "execution_count": null,
   "metadata": {},
   "outputs": [],
   "source": [
    "for tc in range(int(input())):\n",
    "    lst=list(map(int,input().split()))\n",
    "    lst.pop(lst.index(max(lst)))\n",
    "    lst.pop(lst.index(min(lst)))\n",
    "    int(sum(lst)/len(lst))\n",
    "    print(f'#{tc+1} {round(sum(lst)/len(lst))}')\n",
    "\n",
    "    "
   ]
  },
  {
   "cell_type": "code",
   "execution_count": null,
   "metadata": {},
   "outputs": [],
   "source": [
    "def my_func(lst,n):\n",
    "    money=(50000,10000,5000,1000,500,100,50,10)\n",
    "    for i,j in enumerate(money):\n",
    "        if n//j:\n",
    "            lst[i]=str(n//j)\n",
    "            n=n%j\n",
    "for tc in range(int(input())):\n",
    "    lst1=['0','0','0','0','0','0','0','0']\n",
    "    n=int(input())\n",
    "    my_func(lst1,n)\n",
    "    print(f'#{tc+1} {\" \".join(lst1)}') "
   ]
  },
  {
   "cell_type": "code",
   "execution_count": 2,
   "metadata": {},
   "outputs": [
    {
     "name": "stdout",
     "output_type": "stream",
     "text": [
      "2\n",
      "5\n",
      "1 0 2 3 4\n",
      "[0, 1, 2, 3, 4]\n",
      "11\n",
      "1 2 3 4 0 5 6 7 8 10 9 \n",
      "[0, 1, 2, 3, 4, 5, 6, 7, 8, 9, 10]\n"
     ]
    }
   ],
   "source": [
    "for tc in range(int(input())):\n",
    "    n=int(input())\n",
    "    m=list(map(int,input().split()))\n",
    "    m.sort()\n",
    "    print(m)\n"
   ]
  },
  {
   "cell_type": "code",
   "execution_count": 7,
   "metadata": {},
   "outputs": [
    {
     "name": "stdout",
     "output_type": "stream",
     "text": [
      "2\n",
      "10 10\n",
      "WPMACSIBIK\n",
      "STWASDCOBQ\n",
      "AMOUENCSOG\n",
      "XTIIGBLRCZ\n",
      "WXVSWXYYVU\n",
      "CJVAHRZZEM\n",
      "NDIEBIIMTX\n",
      "UOOGPQCBIW\n",
      "OWWATKUEUY\n",
      "FTMERSSANL\n"
     ]
    },
    {
     "ename": "NameError",
     "evalue": "name 'bools' is not defined",
     "output_type": "error",
     "traceback": [
      "\u001b[1;31m---------------------------------------------------------------------------\u001b[0m",
      "\u001b[1;31mNameError\u001b[0m                                 Traceback (most recent call last)",
      "\u001b[1;32m<ipython-input-7-cf471e360f73>\u001b[0m in \u001b[0;36m<module>\u001b[1;34m\u001b[0m\n\u001b[0;32m      4\u001b[0m     \u001b[0mcolumn\u001b[0m\u001b[1;33m=\u001b[0m\u001b[0mlist\u001b[0m\u001b[1;33m(\u001b[0m\u001b[0mzip\u001b[0m\u001b[1;33m(\u001b[0m\u001b[1;33m*\u001b[0m\u001b[0min_str\u001b[0m\u001b[1;33m)\u001b[0m\u001b[1;33m)\u001b[0m\u001b[1;33m\u001b[0m\u001b[1;33m\u001b[0m\u001b[0m\n\u001b[0;32m      5\u001b[0m     \u001b[1;32mfor\u001b[0m \u001b[0mi\u001b[0m \u001b[1;32min\u001b[0m \u001b[0mrange\u001b[0m\u001b[1;33m(\u001b[0m\u001b[0mn\u001b[0m\u001b[1;33m)\u001b[0m\u001b[1;33m:\u001b[0m\u001b[1;33m\u001b[0m\u001b[1;33m\u001b[0m\u001b[0m\n\u001b[1;32m----> 6\u001b[1;33m         \u001b[1;32mif\u001b[0m \u001b[0mbools\u001b[0m\u001b[1;33m:\u001b[0m\u001b[1;33m\u001b[0m\u001b[1;33m\u001b[0m\u001b[0m\n\u001b[0m\u001b[0;32m      7\u001b[0m             \u001b[1;32mfor\u001b[0m \u001b[0mj\u001b[0m \u001b[1;32min\u001b[0m \u001b[0mrange\u001b[0m\u001b[1;33m(\u001b[0m\u001b[0mn\u001b[0m\u001b[1;33m-\u001b[0m\u001b[0mm\u001b[0m\u001b[1;33m+\u001b[0m\u001b[1;36m1\u001b[0m\u001b[1;33m)\u001b[0m\u001b[1;33m:\u001b[0m\u001b[1;33m\u001b[0m\u001b[1;33m\u001b[0m\u001b[0m\n\u001b[0;32m      8\u001b[0m                 \u001b[0mtest\u001b[0m\u001b[1;33m=\u001b[0m\u001b[0min_str\u001b[0m\u001b[1;33m[\u001b[0m\u001b[0mi\u001b[0m\u001b[1;33m]\u001b[0m\u001b[1;33m[\u001b[0m\u001b[0mj\u001b[0m\u001b[1;33m:\u001b[0m\u001b[0mm\u001b[0m\u001b[1;33m+\u001b[0m\u001b[0mj\u001b[0m\u001b[1;33m]\u001b[0m\u001b[1;33m\u001b[0m\u001b[1;33m\u001b[0m\u001b[0m\n",
      "\u001b[1;31mNameError\u001b[0m: name 'bools' is not defined"
     ]
    }
   ],
   "source": [
    "for tc in range(int(input())):\n",
    "    n,m=map(int, input().split())\n",
    "    in_str=[list(input()) for i in range(n)]\n",
    "    column=list(zip(*in_str))\n",
    "    bools=True\n",
    "    for i in range(n):\n",
    "        if bools:\n",
    "            for j in range(n-m+1):\n",
    "                test=in_str[i][j:m+j]\n",
    "                if test == test[::-1] :\n",
    "                    print(test)\n",
    "                    bools=False\n",
    "                    break\n",
    "        else:\n",
    "            break\n",
    "        if bools:\n",
    "            for k in range(n-m+1):\n",
    "                test=in_str[i][j:m+j]\n",
    "                if test==column[i][k:m+k] :\n",
    "                    print(test)\n",
    "                    bools=False\n",
    "                    break\n",
    "        else:\n",
    "            break\n"
   ]
  },
  {
   "cell_type": "code",
   "execution_count": null,
   "metadata": {},
   "outputs": [],
   "source": []
  },
  {
   "cell_type": "code",
   "execution_count": null,
   "metadata": {},
   "outputs": [],
   "source": []
  }
 ],
 "metadata": {
  "kernelspec": {
   "display_name": "Python 3",
   "language": "python",
   "name": "python3"
  },
  "language_info": {
   "codemirror_mode": {
    "name": "ipython",
    "version": 3
   },
   "file_extension": ".py",
   "mimetype": "text/x-python",
   "name": "python",
   "nbconvert_exporter": "python",
   "pygments_lexer": "ipython3",
   "version": "3.7.2"
  }
 },
 "nbformat": 4,
 "nbformat_minor": 2
}
