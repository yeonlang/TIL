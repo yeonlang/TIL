{
 "cells": [
  {
   "cell_type": "code",
   "execution_count": null,
   "metadata": {},
   "outputs": [],
   "source": [
    "def my_map(a):\n",
    "    lst1=[3,6,9]\n",
    "    lst2=list(a)\n",
    "    str1=''\n",
    "    for i in range(len(lst2)):\n",
    "        if int(lst2[i]) in lst1:\n",
    "            lst2[i]='-'\n",
    "    for j in lst2:\n",
    "        str1=str1+j\n",
    "    return str1\n",
    "\n",
    "n=int(input())\n",
    "count=0\n",
    "for k in range(1,n+1):\n",
    "    if '-' in my_map(str(k)):\n",
    "        count=my_map(str(k)).count('-')\n",
    "        print('-'*count+' ',end='')\n",
    "    else:\n",
    "        print(f'{k} ', end='')        \n",
    "    \n",
    "       \n",
    "    \n",
    "    "
   ]
  },
  {
   "cell_type": "code",
   "execution_count": null,
   "metadata": {},
   "outputs": [],
   "source": [
    "#4828 파이썬 문제해결 기본 1일차 min max\n",
    "case=int(input())\n",
    "for t in range(1,case+1):\n",
    "    num=[0 for i in range(int(input()))]\n",
    "    lst=list(map(int,input().split()))\n",
    "    lst.sort()\n",
    "    result=lst[-1]-lst[0]\n",
    "    print(f'#{t} {result}')   "
   ]
  },
  {
   "cell_type": "code",
   "execution_count": null,
   "metadata": {},
   "outputs": [],
   "source": [
    "#4831 파이썬 문제해결 기본 1일차 전기버스\n",
    "\n",
    "#머릿속 알고리즘\n",
    "#3개를 받아온다.\n",
    "#m개를 받아온다.\n",
    "#k보다 같거나 작은 최대값의 원소 주소를 찾는다.\n",
    "#k값을 기준으로 k보다 같거나 작은 최대값의 원소 주소를 찾는다. \n",
    "#위와 같은 과정을 통하여 충전을 할 시 카운트+1을 한다. \n",
    "#만약 다음원소와의 차이>k일 경우 0을 출력한다.\n",
    "\n",
    "T = int(input())\n",
    "for test_case in range(1, T + 1):\n",
    "    K, N, M = map(int, input().split())\n",
    "    #최대이동거리, 총 거리, 충전소의수\n",
    "    lst = list(map(int, input().split()))\n",
    "    lst1 = [i for i in range(N+1)]\n",
    "    lst2 = [0 for i in range(N+1)]\n",
    "\n",
    "    for i in lst:\n",
    "        lst2[i]+=1\n",
    "    position=0\n",
    "    start=1\n",
    "    count=0\n",
    "    while position+K<N:\n",
    "        lst3=lst2[start:position+K+1]\n",
    "        if not 1 in lst3:\n",
    "            count=0\n",
    "            break\n",
    "        lst3.reverse()\n",
    "        for i,j in enumerate(lst3):\n",
    "            if j==1:\n",
    "                position+=len(lst3)-i\n",
    "                start=position+1\n",
    "                lst3.reverse()\n",
    "                count+=1\n",
    "                break\n",
    "    print(f'#{test_case} {count}')    \n"
   ]
  },
  {
   "cell_type": "code",
   "execution_count": null,
   "metadata": {},
   "outputs": [],
   "source": []
  }
 ],
 "metadata": {
  "kernelspec": {
   "display_name": "Python 3",
   "language": "python",
   "name": "python3"
  },
  "language_info": {
   "codemirror_mode": {
    "name": "ipython",
    "version": 3
   },
   "file_extension": ".py",
   "mimetype": "text/x-python",
   "name": "python",
   "nbconvert_exporter": "python",
   "pygments_lexer": "ipython3",
   "version": "3.7.2"
  }
 },
 "nbformat": 4,
 "nbformat_minor": 2
}
