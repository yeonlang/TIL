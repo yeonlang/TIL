{
 "cells": [
  {
   "cell_type": "code",
   "execution_count": null,
   "metadata": {},
   "outputs": [],
   "source": [
    "def my_map(a):\n",
    "    lst1=[3,6,9]\n",
    "    lst2=list(a)\n",
    "    str1=''\n",
    "    for i in range(len(lst2)):\n",
    "        if int(lst2[i]) in lst1:\n",
    "            lst2[i]='-'\n",
    "    for j in lst2:\n",
    "        str1=str1+j\n",
    "    return str1\n",
    "\n",
    "n=int(input())\n",
    "count=0\n",
    "for k in range(1,n+1):\n",
    "    if '-' in my_map(str(k)):\n",
    "        count=my_map(str(k)).count('-')\n",
    "        print('-'*count+' ',end='')\n",
    "    else:\n",
    "        print(f'{k} ', end='')        \n",
    "    \n",
    "       \n",
    "    \n",
    "    "
   ]
  },
  {
   "cell_type": "code",
   "execution_count": null,
   "metadata": {},
   "outputs": [],
   "source": []
  }
 ],
 "metadata": {
  "kernelspec": {
   "display_name": "Python 3",
   "language": "python",
   "name": "python3"
  },
  "language_info": {
   "codemirror_mode": {
    "name": "ipython",
    "version": 3
   },
   "file_extension": ".py",
   "mimetype": "text/x-python",
   "name": "python",
   "nbconvert_exporter": "python",
   "pygments_lexer": "ipython3",
   "version": "3.7.2"
  }
 },
 "nbformat": 4,
 "nbformat_minor": 2
}
