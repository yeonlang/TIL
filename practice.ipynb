{
 "cells": [
  {
   "cell_type": "code",
   "execution_count": null,
   "metadata": {},
   "outputs": [],
   "source": [
    "print ('스카이캐슬 보고싶어')"
   ]
  },
  {
   "cell_type": "code",
   "execution_count": null,
   "metadata": {},
   "outputs": [],
   "source": []
  },
  {
   "cell_type": "code",
   "execution_count": null,
   "metadata": {},
   "outputs": [],
   "source": []
  },
  {
   "cell_type": "code",
   "execution_count": null,
   "metadata": {},
   "outputs": [],
   "source": [
    "a = 3 #int\n",
    "b = 3.0 #float\n",
    "c = '나는 문자다' #string\n"
   ]
  },
  {
   "cell_type": "code",
   "execution_count": null,
   "metadata": {},
   "outputs": [],
   "source": [
    "lst=[1,2,3]\n",
    "lst"
   ]
  },
  {
   "cell_type": "code",
   "execution_count": null,
   "metadata": {},
   "outputs": [],
   "source": [
    "my_sum=0\n",
    "for i in [1,2,3,4,5,6,7,8,9]:\n",
    "    my_sum=i\n",
    "my_sum"
   ]
  },
  {
   "cell_type": "code",
   "execution_count": 2,
   "metadata": {},
   "outputs": [
    {
     "name": "stdout",
     "output_type": "stream",
     "text": [
      "11\n"
     ]
    }
   ],
   "source": [
    "m"
   ]
  },
  {
   "cell_type": "code",
   "execution_count": 6,
   "metadata": {},
   "outputs": [
    {
     "name": "stdout",
     "output_type": "stream",
     "text": [
      "hon\n"
     ]
    }
   ],
   "source": []
  },
  {
   "cell_type": "code",
   "execution_count": 16,
   "metadata": {},
   "outputs": [
    {
     "name": "stdout",
     "output_type": "stream",
     "text": [
      "25\n",
      "68\n"
     ]
    }
   ],
   "source": [
    "a=[0,1,0,1,1,1,1,1,0,1,1,1,1,1,1,0,1,1,0,0,0,1,1,0,1]\n",
    "print(len(a))\n",
    "print(4*a.count(1))"
   ]
  },
  {
   "cell_type": "code",
   "execution_count": 9,
   "metadata": {},
   "outputs": [
    {
     "name": "stdout",
     "output_type": "stream",
     "text": [
      "True\n"
     ]
    }
   ],
   "source": [
    "#스택으로 괄호 검사\n",
    "def my_push(item) :\n",
    "    s.append(item)\n",
    "\n",
    "def my_pop() :\n",
    "    if len(s) == 0:\n",
    "        return\n",
    "    else :\n",
    "        return s.pop(-1)\n",
    "\n",
    "s=[]\n",
    "t='(a(b))'\n",
    "for i in t:\n",
    "    if i=='(':\n",
    "        my_push(i)\n",
    "    if i==')':\n",
    "        my_pop()\n",
    "print(len(s)==0)\n"
   ]
  },
  {
   "cell_type": "code",
   "execution_count": 14,
   "metadata": {},
   "outputs": [
    {
     "data": {
      "text/plain": [
       "13"
      ]
     },
     "execution_count": 14,
     "metadata": {},
     "output_type": "execute_result"
    }
   ],
   "source": [
    "def fibo1(n):\n",
    "    global memo\n",
    "    if n >=2 and len(memo) <= n:\n",
    "        memo.append(fibo1(n-1) + fibo1(n-2))\n",
    "    return memo[n]\n",
    "\n",
    "memo = [0,1]\n",
    "fibo1(7)"
   ]
  },
  {
   "cell_type": "code",
   "execution_count": 28,
   "metadata": {},
   "outputs": [
    {
     "data": {
      "text/plain": [
       "['A', 'B', 'D', 'F', 'E', 'C', 'G']"
      ]
     },
     "execution_count": 28,
     "metadata": {},
     "output_type": "execute_result"
    }
   ],
   "source": [
    "graph = {'A': set(['B', 'C']),\n",
    "         'B': set(['A', 'D', 'E']),\n",
    "         'C': set(['A', 'E']),\n",
    "         'D': set(['B', 'F']),\n",
    "         'E': set(['B', 'C' , 'F']),\n",
    "         'F': set(['D', 'E', 'G']),\n",
    "         'G': set(['F'])}\n",
    "\n",
    "def dfs(graph, start):\n",
    "    visited = []\n",
    "    stack = [start]\n",
    "\n",
    "    while stack:\n",
    "        n = stack.pop(0)\n",
    "        if n not in visited:\n",
    "            visited.append(n)\n",
    "            stack = sorted(list(graph[n] - set(visited))) + stack\n",
    "    return visited\n",
    "\n",
    "dfs(graph,'A')"
   ]
  },
  {
   "cell_type": "code",
   "execution_count": 31,
   "metadata": {},
   "outputs": [
    {
     "name": "stdout",
     "output_type": "stream",
     "text": [
      "4 6\n",
      "101111\n",
      "101010 \n",
      "101011\n",
      "111011\n",
      "15\n"
     ]
    },
    {
     "ename": "SystemExit",
     "evalue": "",
     "output_type": "error",
     "traceback": [
      "An exception has occurred, use %tb to see the full traceback.\n",
      "\u001b[1;31mSystemExit\u001b[0m\n"
     ]
    },
    {
     "name": "stderr",
     "output_type": "stream",
     "text": [
      "c:\\users\\student\\appdata\\local\\programs\\python\\python37\\lib\\site-packages\\IPython\\core\\interactiveshell.py:3275: UserWarning: To exit: use 'exit', 'quit', or Ctrl-D.\n",
      "  warn(\"To exit: use 'exit', 'quit', or Ctrl-D.\", stacklevel=1)\n"
     ]
    }
   ],
   "source": [
    "\n",
    "\n",
    "x, y = map(int, input().split())\n",
    "data = [[0]*y for _ in range(x)]\n",
    "for i in range(x):\n",
    "    temp  = input()\n",
    "    for j in range(y):\n",
    "        data[i][j] = int(temp[j])\n",
    "#print(data)\n",
    "visit = [[0]*y for _ in range(x)]\n",
    "\n",
    "dx = [0,0,1,-1]\n",
    "dy = [1,-1,0,0]\n",
    "\n",
    "# bfs\n",
    "arr = []\n",
    "arr.append((0,0))\n",
    "visit[0][0] = 1\n",
    "while arr:\n",
    "    a, b = arr.pop(0)\n",
    "    if a == x-1 and b == y-1:\n",
    "        print(visit[a][b])\n",
    "        sys.exit()\n",
    "    for i in range(4):\n",
    "        ax = a + dx[i]\n",
    "        ay = b + dy[i]\n",
    "        if ax>=0 and ax<x and ay>=0 and ay<y:\n",
    "            if visit[ax][ay]==0 and data[ax][ay] == 1:\n",
    "                visit[ax][ay] = visit[a][b] + 1\n",
    "                arr.append((ax, ay))\n",
    "\n",
    "\n"
   ]
  },
  {
   "cell_type": "code",
   "execution_count": 30,
   "metadata": {},
   "outputs": [
    {
     "name": "stdout",
     "output_type": "stream",
     "text": [
      "4 6\n",
      "111000\n",
      "100000\n",
      "100111\n",
      "100101\n"
     ]
    }
   ],
   "source": [
    "row, column = map(int,input().split())\n",
    "maze =  [list(map(int,input())) for _ in range(row)]\n",
    "visit = [[0]*column for _ in range(row)]\n",
    "\n",
    "dx = [0,0,1,-1]\n",
    "dy = [1,-1,0,0]\n",
    "\n",
    "# bfs의 시작 시작지점도 경로값에 1 추가\n",
    "arr = []\n",
    "arr.append((0,0))\n",
    "visit[0][0] = 1\n",
    "while arr:\n",
    "    a, b = arr.pop(0)\n",
    "    #row-1,column-1 인덱스는 행렬의 우측 하단 끝, 끝에 도달한다면 실행\n",
    "    if a == row-1 and b == column-1:\n",
    "        print(visit[a][b])\n",
    "\n",
    "    for i in range(4):\n",
    "        #ax,ay는 다음 방문 위치\n",
    "        ax = a + dx[i]\n",
    "        ay = b + dy[i]\n",
    "        #ax,ay>0즉 행렬의 시작범위를 벗어나면 안된다. ax<=x-1,ay<=y-1 행렬의 끝범위를 벗어나면 안된다. \n",
    "        if ax>=0 and ax<row and ay>=0 and ay<column:\n",
    "            #방문하지 않았던 곳이고 갈수있는 길이라면 이전루트+1 arr에 경로 추가\n",
    "            if visit[ax][ay]==0 and maze[ax][ay] == 1:\n",
    "                visit[ax][ay] = visit[a][b] + 1\n",
    "                arr.append((ax, ay))\n",
    "\n",
    "\n",
    "\n",
    "\n",
    "\n",
    "\n",
    "\n",
    "\n",
    "\n",
    "\n",
    "\n",
    "\n",
    "\n",
    "\n"
   ]
  },
  {
   "cell_type": "code",
   "execution_count": 18,
   "metadata": {},
   "outputs": [
    {
     "name": "stdout",
     "output_type": "stream",
     "text": [
      "11\n"
     ]
    },
    {
     "data": {
      "text/plain": [
       "'소수입니다.'"
      ]
     },
     "execution_count": 18,
     "metadata": {},
     "output_type": "execute_result"
    }
   ],
   "source": [
    "def sosoo(num=int(input())):\n",
    "    count=0\n",
    "    if num<2:\n",
    "        return '소수가 아닙니다.'\n",
    "    for i in range(2,num):\n",
    "        if num % i ==0:\n",
    "            count+=1\n",
    "    if count==0:\n",
    "        return '소수입니다.'\n",
    "    else :\n",
    "        return '소수가 아닙니다.'\n",
    "    \n",
    "sosoo()"
   ]
  },
  {
   "cell_type": "code",
   "execution_count": 22,
   "metadata": {},
   "outputs": [
    {
     "name": "stdout",
     "output_type": "stream",
     "text": [
      "2\n",
      "0 1\n",
      "0 0\n",
      "0 1\n",
      "0 0\n"
     ]
    }
   ],
   "source": [
    "N = int(input())\n",
    "myMap = [list(map(int,input().split())) for i in range(N)]\n",
    "\n",
    "for j in range(0, N) :\n",
    "    for i in range(0, N) :\n",
    "        for k in range(0, N):\n",
    "            if myMap[i][j] and myMap[j][k]:\n",
    "                myMap[i][k]=1\n",
    "\n",
    "for w in range(N):\n",
    "    print(\" \".join(map(str,myMap[w])))"
   ]
  },
  {
   "cell_type": "code",
   "execution_count": 26,
   "metadata": {},
   "outputs": [
    {
     "ename": "AttributeError",
     "evalue": "module 'itertools' has no attribute 'combination'",
     "output_type": "error",
     "traceback": [
      "\u001b[1;31m---------------------------------------------------------------------------\u001b[0m",
      "\u001b[1;31mAttributeError\u001b[0m                            Traceback (most recent call last)",
      "\u001b[1;32m<ipython-input-26-d49441dc7f52>\u001b[0m in \u001b[0;36m<module>\u001b[1;34m\u001b[0m\n\u001b[0;32m      2\u001b[0m \u001b[0mcountry\u001b[0m \u001b[1;33m=\u001b[0m \u001b[1;33m[\u001b[0m\u001b[1;34m'대한민국'\u001b[0m\u001b[1;33m,\u001b[0m\u001b[1;34m'스웨덴'\u001b[0m\u001b[1;33m,\u001b[0m \u001b[1;34m'미국'\u001b[0m\u001b[1;33m]\u001b[0m\u001b[1;33m\u001b[0m\u001b[1;33m\u001b[0m\u001b[0m\n\u001b[0;32m      3\u001b[0m \u001b[0mcapital\u001b[0m \u001b[1;33m=\u001b[0m \u001b[1;33m[\u001b[0m\u001b[1;34m'서울'\u001b[0m\u001b[1;33m,\u001b[0m\u001b[1;34m'스톡홀름'\u001b[0m\u001b[1;33m,\u001b[0m\u001b[1;34m'워싱턴'\u001b[0m\u001b[1;33m]\u001b[0m\u001b[1;33m\u001b[0m\u001b[1;33m\u001b[0m\u001b[0m\n\u001b[1;32m----> 4\u001b[1;33m \u001b[0mc\u001b[0m \u001b[1;33m=\u001b[0m \u001b[0mitertools\u001b[0m\u001b[1;33m.\u001b[0m\u001b[0mcombination\u001b[0m\u001b[1;33m(\u001b[0m\u001b[0mcountry\u001b[0m\u001b[1;33m,\u001b[0m \u001b[0mcapital\u001b[0m\u001b[1;33m)\u001b[0m\u001b[1;33m\u001b[0m\u001b[1;33m\u001b[0m\u001b[0m\n\u001b[0m\u001b[0;32m      5\u001b[0m \u001b[0mc\u001b[0m\u001b[1;33m\u001b[0m\u001b[1;33m\u001b[0m\u001b[0m\n",
      "\u001b[1;31mAttributeError\u001b[0m: module 'itertools' has no attribute 'combination'"
     ]
    }
   ],
   "source": [
    "import itertools \n",
    "country = ['대한민국','스웨덴', '미국']\n",
    "capital = ['서울','스톡홀름','워싱턴']\n",
    "c = itertools.combination(country, capital)\n",
    "c"
   ]
  }
 ],
 "metadata": {
  "kernelspec": {
   "display_name": "Python 3",
   "language": "python",
   "name": "python3"
  },
  "language_info": {
   "codemirror_mode": {
    "name": "ipython",
    "version": 3
   },
   "file_extension": ".py",
   "mimetype": "text/x-python",
   "name": "python",
   "nbconvert_exporter": "python",
   "pygments_lexer": "ipython3",
   "version": "3.7.1"
  }
 },
 "nbformat": 4,
 "nbformat_minor": 2
}
