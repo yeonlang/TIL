{
 "cells": [
  {
   "cell_type": "code",
   "execution_count": null,
   "metadata": {},
   "outputs": [],
   "source": [
    "print ('스카이캐슬 보고싶어')"
   ]
  },
  {
   "cell_type": "code",
   "execution_count": null,
   "metadata": {},
   "outputs": [],
   "source": []
  },
  {
   "cell_type": "code",
   "execution_count": null,
   "metadata": {},
   "outputs": [],
   "source": []
  },
  {
   "cell_type": "code",
   "execution_count": null,
   "metadata": {},
   "outputs": [],
   "source": [
    "a = 3 #int\n",
    "b = 3.0 #float\n",
    "c = '나는 문자다' #string\n"
   ]
  },
  {
   "cell_type": "code",
   "execution_count": null,
   "metadata": {},
   "outputs": [],
   "source": [
    "lst=[1,2,3]\n",
    "lst"
   ]
  },
  {
   "cell_type": "code",
   "execution_count": null,
   "metadata": {},
   "outputs": [],
   "source": [
    "my_sum=0\n",
    "for i in [1,2,3,4,5,6,7,8,9]:\n",
    "    my_sum=i\n",
    "my_sum"
   ]
  },
  {
   "cell_type": "code",
   "execution_count": null,
   "metadata": {},
   "outputs": [],
   "source": [
    "m"
   ]
  },
  {
   "cell_type": "code",
   "execution_count": null,
   "metadata": {},
   "outputs": [],
   "source": []
  },
  {
   "cell_type": "code",
   "execution_count": null,
   "metadata": {},
   "outputs": [],
   "source": [
    "a=[0,1,0,1,1,1,1,1,0,1,1,1,1,1,1,0,1,1,0,0,0,1,1,0,1]\n",
    "print(len(a))\n",
    "print(4*a.count(1))"
   ]
  },
  {
   "cell_type": "code",
   "execution_count": null,
   "metadata": {},
   "outputs": [],
   "source": [
    "#스택으로 괄호 검사\n",
    "def my_push(item) :\n",
    "    s.append(item)\n",
    "\n",
    "def my_pop() :\n",
    "    if len(s) == 0:\n",
    "        return\n",
    "    else :\n",
    "        return s.pop(-1)\n",
    "\n",
    "s=[]\n",
    "t='(a(b))'\n",
    "for i in t:\n",
    "    if i=='(':\n",
    "        my_push(i)\n",
    "    if i==')':\n",
    "        my_pop()\n",
    "print(len(s)==0)\n"
   ]
  },
  {
   "cell_type": "code",
   "execution_count": null,
   "metadata": {},
   "outputs": [],
   "source": [
    "def fibo1(n):\n",
    "    global memo\n",
    "    if n >=2 and len(memo) <= n:\n",
    "        memo.append(fibo1(n-1) + fibo1(n-2))\n",
    "    return memo[n]\n",
    "\n",
    "memo = [0,1]\n",
    "fibo1(7)"
   ]
  },
  {
   "cell_type": "code",
   "execution_count": null,
   "metadata": {},
   "outputs": [],
   "source": [
    "graph = {'A': set(['B', 'C']),\n",
    "         'B': set(['A', 'D', 'E']),\n",
    "         'C': set(['A', 'E']),\n",
    "         'D': set(['B', 'F']),\n",
    "         'E': set(['B', 'C' , 'F']),\n",
    "         'F': set(['D', 'E', 'G']),\n",
    "         'G': set(['F'])}\n",
    "\n",
    "def dfs(graph, start):\n",
    "    visited = []\n",
    "    stack = [start]\n",
    "\n",
    "    while stack:\n",
    "        n = stack.pop(0)\n",
    "        if n not in visited:\n",
    "            visited.append(n)\n",
    "            stack = sorted(list(graph[n] - set(visited))) + stack\n",
    "    return visited\n",
    "\n",
    "dfs(graph,'A')"
   ]
  },
  {
   "cell_type": "code",
   "execution_count": null,
   "metadata": {},
   "outputs": [],
   "source": [
    "\n",
    "\n",
    "x, y = map(int, input().split())\n",
    "data = [[0]*y for _ in range(x)]\n",
    "for i in range(x):\n",
    "    temp  = input()\n",
    "    for j in range(y):\n",
    "        data[i][j] = int(temp[j])\n",
    "#print(data)\n",
    "visit = [[0]*y for _ in range(x)]\n",
    "\n",
    "dx = [0,0,1,-1]\n",
    "dy = [1,-1,0,0]\n",
    "\n",
    "# bfs\n",
    "arr = []\n",
    "arr.append((0,0))\n",
    "visit[0][0] = 1\n",
    "while arr:\n",
    "    a, b = arr.pop(0)\n",
    "    if a == x-1 and b == y-1:\n",
    "        print(visit[a][b])\n",
    "        sys.exit()\n",
    "    for i in range(4):\n",
    "        ax = a + dx[i]\n",
    "        ay = b + dy[i]\n",
    "        if ax>=0 and ax<x and ay>=0 and ay<y:\n",
    "            if visit[ax][ay]==0 and data[ax][ay] == 1:\n",
    "                visit[ax][ay] = visit[a][b] + 1\n",
    "                arr.append((ax, ay))\n",
    "\n",
    "\n"
   ]
  },
  {
   "cell_type": "code",
   "execution_count": null,
   "metadata": {},
   "outputs": [],
   "source": [
    "row, column = map(int,input().split())\n",
    "maze =  [list(map(int,input())) for _ in range(row)]\n",
    "visit = [[0]*column for _ in range(row)]\n",
    "\n",
    "dx = [0,0,1,-1]\n",
    "dy = [1,-1,0,0]\n",
    "\n",
    "# bfs의 시작 시작지점도 경로값에 1 추가\n",
    "arr = []\n",
    "arr.append((0,0))\n",
    "visit[0][0] = 1\n",
    "while arr:\n",
    "    a, b = arr.pop(0)\n",
    "    #row-1,column-1 인덱스는 행렬의 우측 하단 끝, 끝에 도달한다면 실행\n",
    "    if a == row-1 and b == column-1:\n",
    "        print(visit[a][b])\n",
    "\n",
    "    for i in range(4):\n",
    "        #ax,ay는 다음 방문 위치\n",
    "        ax = a + dx[i]\n",
    "        ay = b + dy[i]\n",
    "        #ax,ay>0즉 행렬의 시작범위를 벗어나면 안된다. ax<=x-1,ay<=y-1 행렬의 끝범위를 벗어나면 안된다. \n",
    "        if ax>=0 and ax<row and ay>=0 and ay<column:\n",
    "            #방문하지 않았던 곳이고 갈수있는 길이라면 이전루트+1 arr에 경로 추가\n",
    "            if visit[ax][ay]==0 and maze[ax][ay] == 1:\n",
    "                visit[ax][ay] = visit[a][b] + 1\n",
    "                arr.append((ax, ay))\n",
    "\n",
    "\n",
    "\n",
    "\n",
    "\n",
    "\n",
    "\n",
    "\n",
    "\n",
    "\n",
    "\n",
    "\n",
    "\n",
    "\n"
   ]
  },
  {
   "cell_type": "code",
   "execution_count": null,
   "metadata": {},
   "outputs": [],
   "source": [
    "def sosoo(num=int(input())):\n",
    "    count=0\n",
    "    if num<2:\n",
    "        return '소수가 아닙니다.'\n",
    "    for i in range(2,num):\n",
    "        if num % i ==0:\n",
    "            count+=1\n",
    "    if count==0:\n",
    "        return '소수입니다.'\n",
    "    else :\n",
    "        return '소수가 아닙니다.'\n",
    "    \n",
    "sosoo()"
   ]
  },
  {
   "cell_type": "code",
   "execution_count": null,
   "metadata": {},
   "outputs": [],
   "source": [
    "N = int(input())\n",
    "myMap = [list(map(int,input().split())) for i in range(N)]\n",
    "\n",
    "for j in range(0, N) :\n",
    "    for i in range(0, N) :\n",
    "        for k in range(0, N):\n",
    "            if myMap[i][j] and myMap[j][k]:\n",
    "                myMap[i][k]=1\n",
    "\n",
    "for w in range(N):\n",
    "    print(\" \".join(map(str,myMap[w])))"
   ]
  },
  {
   "cell_type": "code",
   "execution_count": null,
   "metadata": {},
   "outputs": [],
   "source": [
    "import itertools \n",
    "country = ['대한민국','스웨덴', '미국']\n",
    "capital = ['서울','스톡홀름','워싱턴']\n",
    "c = itertools.combination(country, capital)\n",
    "c"
   ]
  },
  {
   "cell_type": "code",
   "execution_count": null,
   "metadata": {},
   "outputs": [],
   "source": [
    "from itertools import combinations\n",
    "while True:\n",
    "    n, *s = map(int, input().split())\n",
    "    if not n:\n",
    "        break\n",
    "    for i in combinations(s,6):\n",
    "        u=list(i)\n",
    "        print(u)\n",
    "        \n"
   ]
  },
  {
   "cell_type": "code",
   "execution_count": 13,
   "metadata": {},
   "outputs": [
    {
     "name": "stdout",
     "output_type": "stream",
     "text": [
      "[3, 3, 3, 3]\n"
     ]
    }
   ],
   "source": [
    "import itertools\n",
    "pool1 = [1, 2, 3]\n",
    "pool2 = ['A', 'B', 'C']\n",
    "lst= [ j for i in map(list, itertools.permutations(pool1,2)) for j in i if j==3] # 3개의 원소로 수열 만들기\n",
    "\n",
    "print(lst)\n"
   ]
  },
  {
   "cell_type": "code",
   "execution_count": 7,
   "metadata": {},
   "outputs": [
    {
     "name": "stdout",
     "output_type": "stream",
     "text": [
      "5 7 3\n",
      "0 2 4 4 \n",
      "1 1 2 5\n",
      "4 0 6 2\n",
      "1 0 1 1 1 1 1\n",
      "0 0 0 0 1 1 1\n",
      "0 0 0 0 1 1 1\n",
      "1 0 1 1 0 0 1\n",
      "1 1 1 1 0 0 1\n"
     ]
    }
   ],
   "source": [
    "def dfs(A):\n",
    "    stack = []\n",
    "    stack.append(A)\n",
    "    \n",
    "    while stack :\n",
    "        B=stack.pop()\n",
    "        y,x=B//7,B%7\n",
    "        if visit[y][x]:\n",
    "            continue\n",
    "        visit[y][x] = 1\n",
    "        stack.\n",
    "        \n",
    "M,N,K = map(int,input().split())\n",
    "mat=[ [1]*N  for _ in range(M) ]\n",
    "visit=[ [0]*N  for _ in range(M) ]\n",
    "\n",
    "for t in range(K):\n",
    "    x1, y1, x2, y2 = map(int,input().split())\n",
    "    \n",
    "    for i in range(M):\n",
    "        for j in range(N):\n",
    "            if j>=x1 and j<x2 and i>=y1 and i<y2:\n",
    "                mat[M-i-1][j]=0\n",
    "\n",
    "\n",
    "                \n",
    "for k in range(M):\n",
    "    print(*mat[k])\n",
    "    \n"
   ]
  },
  {
   "cell_type": "code",
   "execution_count": 18,
   "metadata": {},
   "outputs": [
    {
     "name": "stdout",
     "output_type": "stream",
     "text": [
      "5 7 3\n",
      "0 2 4 4\n",
      "1 1 2 5\n",
      "4 0 6 2\n",
      "1 0 1 1 1 1 1\n",
      "0 0 0 0 1 1 1\n",
      "0 0 0 0 1 1 1\n",
      "1 0 1 1 0 0 1\n",
      "1 1 1 1 0 0 1\n"
     ]
    },
    {
     "ename": "IndexError",
     "evalue": "list index out of range",
     "output_type": "error",
     "traceback": [
      "\u001b[1;31m---------------------------------------------------------------------------\u001b[0m",
      "\u001b[1;31mIndexError\u001b[0m                                Traceback (most recent call last)",
      "\u001b[1;32m<ipython-input-18-a170f3c3d8ff>\u001b[0m in \u001b[0;36m<module>\u001b[1;34m\u001b[0m\n\u001b[0;32m     31\u001b[0m                     \u001b[0mnn\u001b[0m \u001b[1;33m=\u001b[0m \u001b[0mlead\u001b[0m\u001b[1;33m[\u001b[0m\u001b[1;36m0\u001b[0m\u001b[1;33m]\u001b[0m \u001b[1;33m+\u001b[0m \u001b[0mdn\u001b[0m\u001b[1;33m[\u001b[0m\u001b[0mj\u001b[0m\u001b[1;33m]\u001b[0m\u001b[1;33m\u001b[0m\u001b[1;33m\u001b[0m\u001b[0m\n\u001b[0;32m     32\u001b[0m                     \u001b[0mmm\u001b[0m \u001b[1;33m=\u001b[0m \u001b[0mlead\u001b[0m\u001b[1;33m[\u001b[0m\u001b[1;36m1\u001b[0m\u001b[1;33m]\u001b[0m \u001b[1;33m+\u001b[0m \u001b[0mdm\u001b[0m\u001b[1;33m[\u001b[0m\u001b[0mj\u001b[0m\u001b[1;33m]\u001b[0m\u001b[1;33m\u001b[0m\u001b[1;33m\u001b[0m\u001b[0m\n\u001b[1;32m---> 33\u001b[1;33m                     \u001b[1;32mif\u001b[0m \u001b[0mnn\u001b[0m \u001b[1;33m>=\u001b[0m \u001b[1;36m0\u001b[0m \u001b[1;32mand\u001b[0m \u001b[0mnn\u001b[0m \u001b[1;33m<\u001b[0m \u001b[0mN\u001b[0m \u001b[1;32mand\u001b[0m \u001b[0mmm\u001b[0m \u001b[1;33m>=\u001b[0m \u001b[1;36m0\u001b[0m \u001b[1;32mand\u001b[0m \u001b[0mmm\u001b[0m \u001b[1;33m<\u001b[0m \u001b[0mM\u001b[0m \u001b[1;32mand\u001b[0m \u001b[0marea\u001b[0m\u001b[1;33m[\u001b[0m\u001b[0mnn\u001b[0m\u001b[1;33m]\u001b[0m\u001b[1;33m[\u001b[0m\u001b[0mmm\u001b[0m\u001b[1;33m]\u001b[0m\u001b[1;33m:\u001b[0m\u001b[1;33m\u001b[0m\u001b[1;33m\u001b[0m\u001b[0m\n\u001b[0m\u001b[0;32m     34\u001b[0m                         \u001b[0mbfs\u001b[0m\u001b[1;33m.\u001b[0m\u001b[0mappend\u001b[0m\u001b[1;33m(\u001b[0m\u001b[1;33m[\u001b[0m\u001b[0mnn\u001b[0m\u001b[1;33m,\u001b[0m\u001b[0mmm\u001b[0m\u001b[1;33m]\u001b[0m\u001b[1;33m)\u001b[0m\u001b[1;33m\u001b[0m\u001b[1;33m\u001b[0m\u001b[0m\n\u001b[0;32m     35\u001b[0m                         \u001b[0marea\u001b[0m\u001b[1;33m[\u001b[0m\u001b[0mnn\u001b[0m\u001b[1;33m]\u001b[0m\u001b[1;33m[\u001b[0m\u001b[0mmm\u001b[0m\u001b[1;33m]\u001b[0m\u001b[1;33m=\u001b[0m\u001b[1;36m0\u001b[0m\u001b[1;33m\u001b[0m\u001b[1;33m\u001b[0m\u001b[0m\n",
      "\u001b[1;31mIndexError\u001b[0m: list index out of range"
     ]
    }
   ],
   "source": [
    "M,N,K = map(int,input().split())\n",
    "area=[ [1]*N  for _ in range(M) ]\n",
    "\n",
    "for _ in range(K):\n",
    "    y1, x1, y2, x2 = map(int, input().split())\n",
    "    \n",
    "    for i in range(y1,y2):\n",
    "        area[i][x1:x2] = [0]*(x2-x1)\n",
    "for i in area:\n",
    "    print(*i)\n",
    "\n",
    "\n",
    "size = []\n",
    "dn = [1,-1,0,0]\n",
    "dm = [0,0,1,-1]        \n",
    "for n in range(N):\n",
    "    for m in range(M):\n",
    "        if area[n][m]:\n",
    "            count = 0\n",
    "            area[n][m] = 0\n",
    "            bfs = [[n,m]]\n",
    "            \n",
    "            while bfs:\n",
    "                lead = bfs.pop(0)\n",
    "                count+=1\n",
    "                \n",
    "                for j in range(4):\n",
    "                    nn = lead[0] + dn[j]\n",
    "                    mm = lead[1] + dm[j]\n",
    "                    if nn >= 0 and nn < N and mm >= 0 and mm < M and area[nn][mm]:\n",
    "                        bfs.append([nn,mm])\n",
    "                        area[nn][mm]=0\n",
    "            \n",
    "            size.append(count)\n",
    "\n",
    "print(len(size))\n",
    "print(*sorted(size))"
   ]
  },
  {
   "cell_type": "code",
   "execution_count": null,
   "metadata": {},
   "outputs": [],
   "source": [
    "def bfs(start,dest):\n",
    " V=[0]*200001\n",
    " Q,pos=[start],0\n",
    " V[start]=1\n",
    " while 1:\n",
    "  start=Q[pos]\n",
    "  if start==dest: return V[start]-1\n",
    "  if start<dest and not V[start+1]:\n",
    "    Q.append(start+1)\n",
    "    V[start+1]=V[start]+1\n",
    "  if start>0 and not V[start-1]:\n",
    "    Q.append(start-1)\n",
    "    V[start-1]=V[start]+1\n",
    "  if start<dest and not V[start*2]:\n",
    "    Q.append(start*2)\n",
    "    V[start*2]=V[start]+1\n",
    "  pos+=1\n",
    "\n",
    "a,b=map(int,input().split())\n",
    "print(bfs(a,b))\n"
   ]
  },
  {
   "cell_type": "code",
   "execution_count": null,
   "metadata": {},
   "outputs": [],
   "source": [
    "n, k = map(int, input().split())\n",
    "\n",
    "current = [k]\n",
    "num = 0\n",
    "\n",
    "if n >= k:\n",
    "    print(str(n-k))\n",
    "else:\n",
    "    visit = [0] * 100001\n",
    "    while current:\n",
    "        t = current.pop(0)\n",
    "        if t == n:\n",
    "            break\n",
    "        if t % 2 == 0 and visit[t / 2] == 0:\n",
    "            current.append(t / 2)\n",
    "            visit[t / 2] = visit[t] + 1\n",
    "        if t - 1 >= 0 and visit[t - 1] == 0:\n",
    "            current.append(t - 1)\n",
    "            visit[t - 1] = visit[t] + 1\n",
    "        if t + 1 < 100001 and visit[t + 1] == 0:\n",
    "            current.append(t + 1)\n",
    "            visit[t + 1] =visit[t]+1\n",
    "    print(visit[n])"
   ]
  }
 ],
 "metadata": {
  "kernelspec": {
   "display_name": "Python 3",
   "language": "python",
   "name": "python3"
  },
  "language_info": {
   "codemirror_mode": {
    "name": "ipython",
    "version": 3
   },
   "file_extension": ".py",
   "mimetype": "text/x-python",
   "name": "python",
   "nbconvert_exporter": "python",
   "pygments_lexer": "ipython3",
   "version": "3.7.1"
  }
 },
 "nbformat": 4,
 "nbformat_minor": 2
}
