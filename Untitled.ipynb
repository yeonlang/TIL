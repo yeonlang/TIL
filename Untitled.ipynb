{
 "cells": [
  {
   "cell_type": "code",
   "execution_count": 1,
   "metadata": {},
   "outputs": [
    {
     "name": "stdout",
     "output_type": "stream",
     "text": [
      "*****\n",
      "*****\n",
      "*****\n",
      "*****\n",
      "*****\n",
      "*****\n",
      "*****\n",
      "*****\n",
      "*****\n",
      "\n"
     ]
    }
   ],
   "source": [
    "n, m = 5, 9\n",
    "# for i in range(1,m+1) :\n",
    "#     for j in range(1,n+1) :\n",
    "#         print('*',end=\"\")                \n",
    "#     print(\"\")\n",
    "print((\"*\"*n+'\\n')*m)    "
   ]
  },
  {
   "cell_type": "code",
   "execution_count": 2,
   "metadata": {},
   "outputs": [
    {
     "name": "stdout",
     "output_type": "stream",
     "text": [
      "87.75\n"
     ]
    }
   ],
   "source": [
    "student = {'python' : 80, 'algorithm' : 99, 'django' : 89, 'flask':83}\n",
    "sum = 0\n",
    "for i in student.values() :\n",
    "    sum += i\n",
    "print(sum/len(student))    "
   ]
  },
  {
   "cell_type": "code",
   "execution_count": null,
   "metadata": {},
   "outputs": [],
   "source": [
    "blood_types= ['A', 'B', 'A', 'O', 'AB', 'AB', 'O', 'A', 'B', 'O', 'B', 'AB']\n",
    "a, b, o, ab = 0, 0, 0, 0\n",
    "for i in blood_types:\n",
    "    if(i=='A'):\n",
    "        a+=1\n",
    "    if(i=='B'):\n",
    "        b+=1\n",
    "    if(i=='O'):\n",
    "        o+=1\n",
    "    if(i=='AB'):\n",
    "        ab+=1\n",
    "print(f'A형 혈액형을 가진 학생의 수는 {a}명\\nB형 혈액형을 가진 학생의 수는 {b}명\\nO형 혈액형을 가진 학생의 수는 {o}명\\nAB형 혈액형을 가진 학생의 수는 {ab}명\\n입니다.')\n"
   ]
  },
  {
   "cell_type": "code",
   "execution_count": null,
   "metadata": {},
   "outputs": [],
   "source": [
    "blood_types= ['A', 'B', 'A', 'O', 'AB', 'AB', 'O', 'A', 'B', 'O', 'B', 'AB']\n",
    "result = {}\n",
    "for blood_type in blood_types :\n",
    "    if blood_type in result:\n",
    "        result[blood_type] += 1\n",
    "    else :\n",
    "        result[blood_type] = 1\n",
    "print(result)    \n",
    "    "
   ]
  },
  {
   "cell_type": "code",
   "execution_count": null,
   "metadata": {},
   "outputs": [],
   "source": [
    "import math\n",
    "a = 0.1*3\n",
    "b = 0.3\n",
    "\n",
    "math.isclose(a,b)\n"
   ]
  },
  {
   "cell_type": "code",
   "execution_count": null,
   "metadata": {},
   "outputs": [],
   "source": [
    "\\n \\t \\\\"
   ]
  },
  {
   "cell_type": "code",
   "execution_count": null,
   "metadata": {},
   "outputs": [],
   "source": [
    "name = '철수'\n",
    "print(f'안녕, {name}야')"
   ]
  },
  {
   "cell_type": "code",
   "execution_count": null,
   "metadata": {},
   "outputs": [],
   "source": [
    "int('3.5')"
   ]
  },
  {
   "cell_type": "code",
   "execution_count": null,
   "metadata": {},
   "outputs": [],
   "source": [
    "t=int(input())\n",
    "n=5000\n",
    "\n",
    "a = set([(3*i)+(5*j) for i in range((n//3)+1) for j in range((n//5)+1)])\n",
    "\n",
    "if (t in a):\n",
    "    five=t//5\n",
    "    three=0\n",
    "    if t % 5 == 1:\n",
    "        three+=2 \n",
    "        five=five-1\n",
    "    if t % 5 == 2:\n",
    "        three+=4\n",
    "        five=five-2    \n",
    "    if t % 5 == 3:\n",
    "        three+=1 \n",
    "    if t % 5 == 4:\n",
    "        three+=3 \n",
    "        five=five-1\n",
    "    print(f'{three+five}')\n",
    "else :\n",
    "    print(-1)\n",
    "    \n"
   ]
  },
  {
   "cell_type": "code",
   "execution_count": null,
   "metadata": {},
   "outputs": [],
   "source": [
    "lsti=input()\n",
    "lstc=['c','r','o','a','k']\n",
    "c,r,o,a,k = 0,0,0,0,0\n",
    "count=0    \n",
    "if not lsti[0]!='c':\n",
    "    count=-1\n",
    "    \n",
    "for i in lsti:\n",
    "    if i in 'croak':\n",
    "        if i == 'c':\n",
    "            liti.replace('c','-')\n",
    "            print(liti)\n",
    "            c+=1\n",
    "        if i == 'r':\n",
    "            r+=1\n",
    "        if i == 'o':\n",
    "            o+=1    \n",
    "        if i == 'a':\n",
    "            a+=1\n",
    "        if i == 'k':\n",
    "            k+=1\n",
    "        \n"
   ]
  },
  {
   "cell_type": "code",
   "execution_count": 4,
   "metadata": {},
   "outputs": [
    {
     "name": "stdout",
     "output_type": "stream",
     "text": [
      "swe\n",
      "sweswewee\n",
      "[3, 4, 2]\n"
     ]
    }
   ],
   "source": [
    "str1=set(input())\n",
    "str2=tuple(input())\n",
    "result=[]\n",
    "for i in str1:\n",
    "    result.append(str2.count(i))\n",
    "print(result)\n",
    "lst1=list(map(lambda x:x[0]*x[1] ,zip([1, 2, 3], [4, 5, 6])))"
   ]
  },
  {
   "cell_type": "code",
   "execution_count": 44,
   "metadata": {},
   "outputs": [
    {
     "data": {
      "text/plain": [
       "32"
      ]
     },
     "execution_count": 44,
     "metadata": {},
     "output_type": "execute_result"
    }
   ],
   "source": [
    "# zip과 sum을 이용 위아래 한번에 곱하기\n",
    "a=sum(map(lambda x: x[0]*x[1],zip([1,2,3],[4,5,6])))\n",
    "a"
   ]
  },
  {
   "cell_type": "code",
   "execution_count": 58,
   "metadata": {},
   "outputs": [
    {
     "name": "stdout",
     "output_type": "stream",
     "text": [
      "741 987 369\n"
     ]
    }
   ],
   "source": [
    "#zip함수를 이용한 리스트 회전 바로구현\n",
    "lst=[[1, 2, 3],[4, 5, 6],[7, 8, 9]]\n",
    "lst1=list(zip(*reversed(lst)))\n",
    "lst2=list(zip(*reversed(lst1)))\n",
    "lst3=list(zip(*reversed(lst2)))\n",
    "print(f'{\"\".join(map(str,lst1[0]))} {\"\".join(map(str,lst2[0]))} {\"\".join(map(str,lst3[0]))}')"
   ]
  },
  {
   "cell_type": "code",
   "execution_count": 61,
   "metadata": {},
   "outputs": [
    {
     "name": "stdout",
     "output_type": "stream",
     "text": [
      "3\n",
      "1 2 3\n",
      "4 5 6\n",
      "7 8 9\n"
     ]
    },
    {
     "data": {
      "text/plain": [
       "[[1, 2, 3], [4, 5, 6], [7, 8, 9]]"
      ]
     },
     "execution_count": 61,
     "metadata": {},
     "output_type": "execute_result"
    }
   ],
   "source": [
    "#이차원 리스트 바로생성\n",
    "lst=[list(map(int,input().split())) for i in range(int(input()))]\n",
    "lst"
   ]
  },
  {
   "cell_type": "code",
   "execution_count": 68,
   "metadata": {},
   "outputs": [
    {
     "name": "stdout",
     "output_type": "stream",
     "text": [
      "1 2 3\n"
     ]
    }
   ],
   "source": [
    "lst2=[1,2,3]\n",
    "print (\" \".join(map(str,lst2)))"
   ]
  },
  {
   "cell_type": "code",
   "execution_count": null,
   "metadata": {},
   "outputs": [
    {
     "name": "stdout",
     "output_type": "stream",
     "text": [
      "3\n",
      "2\n",
      "1 2\n",
      "2 1\n",
      "3\n"
     ]
    }
   ],
   "source": [
    "for tc in range(int(input())):\n",
    "    v,l=0,0\n",
    "    for i in range(int(input())):\n",
    "        a,b=map(int,input().split())\n",
    "        if a==1:\n",
    "            v+=b\n",
    "            l+=v\n",
    "        elif a==2:\n",
    "            if v>=b:\n",
    "                v-=b\n",
    "            else:\n",
    "                v=0\n",
    "            l+=v\n",
    "        else :\n",
    "            l+=v\n",
    "    print(l)"
   ]
  },
  {
   "cell_type": "code",
   "execution_count": 5,
   "metadata": {},
   "outputs": [
    {
     "name": "stdout",
     "output_type": "stream",
     "text": [
      "1,2,3\n",
      "6\n"
     ]
    }
   ],
   "source": [
    "try:\n",
    "    a=list(map(int,input().split(',')))\n",
    "    mul=1\n",
    "    for i in a:\n",
    "        mul=mul*i\n",
    "    print(mul)\n",
    "except ValueError:\n",
    "    print('에러발생')\n",
    "\n",
    "\n",
    "    "
   ]
  }
 ],
 "metadata": {
  "kernelspec": {
   "display_name": "Python 3",
   "language": "python",
   "name": "python3"
  },
  "language_info": {
   "codemirror_mode": {
    "name": "ipython",
    "version": 3
   },
   "file_extension": ".py",
   "mimetype": "text/x-python",
   "name": "python",
   "nbconvert_exporter": "python",
   "pygments_lexer": "ipython3",
   "version": "3.7.1"
  }
 },
 "nbformat": 4,
 "nbformat_minor": 2
}
