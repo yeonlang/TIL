{
 "cells": [
  {
   "cell_type": "code",
   "execution_count": null,
   "metadata": {},
   "outputs": [],
   "source": [
    "n, m = 5, 9\n",
    "# for i in range(1,m+1) :\n",
    "#     for j in range(1,n+1) :\n",
    "#         print('*',end=\"\")                \n",
    "#     print(\"\")\n",
    "print((\"*\"*n+'\\n')*m)    "
   ]
  },
  {
   "cell_type": "code",
   "execution_count": null,
   "metadata": {},
   "outputs": [],
   "source": [
    "student = {'python' : 80, 'algorithm' : 99, 'django' : 89, 'flask':83}\n",
    "sum = 0\n",
    "for i in student.values() :\n",
    "    sum += i\n",
    "print(sum/len(student))    "
   ]
  },
  {
   "cell_type": "code",
   "execution_count": null,
   "metadata": {},
   "outputs": [],
   "source": [
    "blood_types= ['A', 'B', 'A', 'O', 'AB', 'AB', 'O', 'A', 'B', 'O', 'B', 'AB']\n",
    "a, b, o, ab = 0, 0, 0, 0\n",
    "for i in blood_types:\n",
    "    if(i=='A'):\n",
    "        a+=1\n",
    "    if(i=='B'):\n",
    "        b+=1\n",
    "    if(i=='O'):\n",
    "        o+=1\n",
    "    if(i=='AB'):\n",
    "        ab+=1\n",
    "print(f'A형 혈액형을 가진 학생의 수는 {a}명\\nB형 혈액형을 가진 학생의 수는 {b}명\\nO형 혈액형을 가진 학생의 수는 {o}명\\nAB형 혈액형을 가진 학생의 수는 {ab}명\\n입니다.')\n"
   ]
  },
  {
   "cell_type": "code",
   "execution_count": null,
   "metadata": {},
   "outputs": [],
   "source": [
    "blood_types= ['A', 'B', 'A', 'O', 'AB', 'AB', 'O', 'A', 'B', 'O', 'B', 'AB']\n",
    "result = {}\n",
    "for blood_type in blood_types :\n",
    "    if blood_type in result:\n",
    "        result[blood_type] += 1\n",
    "    else :\n",
    "        result[blood_type] = 1\n",
    "print(result)    \n",
    "    "
   ]
  },
  {
   "cell_type": "code",
   "execution_count": null,
   "metadata": {},
   "outputs": [],
   "source": [
    "import math\n",
    "a = 0.1*3\n",
    "b = 0.3\n",
    "\n",
    "math.isclose(a,b)\n"
   ]
  },
  {
   "cell_type": "code",
   "execution_count": null,
   "metadata": {},
   "outputs": [],
   "source": [
    "\\n \\t \\\\"
   ]
  },
  {
   "cell_type": "code",
   "execution_count": null,
   "metadata": {},
   "outputs": [],
   "source": [
    "name = '철수'\n",
    "print(f'안녕, {name}야')"
   ]
  },
  {
   "cell_type": "code",
   "execution_count": null,
   "metadata": {},
   "outputs": [],
   "source": [
    "int('3.5')"
   ]
  },
  {
   "cell_type": "code",
   "execution_count": null,
   "metadata": {},
   "outputs": [],
   "source": [
    "t=int(input())\n",
    "n=5000\n",
    "\n",
    "a = set([(3*i)+(5*j) for i in range((n//3)+1) for j in range((n//5)+1)])\n",
    "\n",
    "if (t in a):\n",
    "    five=t//5\n",
    "    three=0\n",
    "    if t % 5 == 1:\n",
    "        three+=2 \n",
    "        five=five-1\n",
    "    if t % 5 == 2:\n",
    "        three+=4\n",
    "        five=five-2    \n",
    "    if t % 5 == 3:\n",
    "        three+=1 \n",
    "    if t % 5 == 4:\n",
    "        three+=3 \n",
    "        five=five-1\n",
    "    print(f'{three+five}')\n",
    "else :\n",
    "    print(-1)\n",
    "    \n"
   ]
  }
 ],
 "metadata": {
  "kernelspec": {
   "display_name": "Python 3",
   "language": "python",
   "name": "python3"
  },
  "language_info": {
   "codemirror_mode": {
    "name": "ipython",
    "version": 3
   },
   "file_extension": ".py",
   "mimetype": "text/x-python",
   "name": "python",
   "nbconvert_exporter": "python",
   "pygments_lexer": "ipython3",
   "version": "3.7.1"
  }
 },
 "nbformat": 4,
 "nbformat_minor": 2
}
