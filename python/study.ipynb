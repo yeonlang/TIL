{
 "cells": [
  {
   "cell_type": "code",
   "execution_count": 6,
   "metadata": {},
   "outputs": [
    {
     "name": "stdout",
     "output_type": "stream",
     "text": [
      "[(1, 4, 7), (2, 5, 8), (3, 6, 9)]\n"
     ]
    }
   ],
   "source": [
    "#zip을 이용하여 이차원 배열에서 전치행렬을 구성할 수 있다.\n",
    "a=[[1,2,3],[4,5,6],[7,8,9]]\n",
    "print(list(zip(*a)))"
   ]
  },
  {
   "cell_type": "code",
   "execution_count": null,
   "metadata": {},
   "outputs": [],
   "source": [
    "# 모든 부분집합을 탐색하여 합이 k인 부분집합의 수를 출력하는 함수\n",
    "def subset(A, index=0, count=0,k=0 ):\n",
    "    if index == len(A):\n",
    "        if sum(A)==k:\n",
    "            count+=1\n",
    "        return count\n",
    "    B=A[:] #index를 증가시켜 다음 탐색할 리스트\n",
    "    A.pop(index)\n",
    "    C=A[:] #원소 하나를 pop한 후 다음 index를 탐색    \n",
    "    return subset(B, index + 1,count,k) + subset(C, index,count,k)\n",
    "\n",
    "#모든 부분집합을 리스트로 표현하는 함수를 구현해보자!        "
   ]
  }
 ],
 "metadata": {
  "kernelspec": {
   "display_name": "Python 3",
   "language": "python",
   "name": "python3"
  },
  "language_info": {
   "codemirror_mode": {
    "name": "ipython",
    "version": 3
   },
   "file_extension": ".py",
   "mimetype": "text/x-python",
   "name": "python",
   "nbconvert_exporter": "python",
   "pygments_lexer": "ipython3",
   "version": "3.7.1"
  }
 },
 "nbformat": 4,
 "nbformat_minor": 2
}
