{
 "cells": [
  {
   "cell_type": "markdown",
   "metadata": {},
   "source": [
    "# 미들 네임\n",
    "\n",
    "> 영어 이름은 가운데 이름을 가지고 있는 경우가 있습니다.\n",
    ">\n",
    "> 가운데 이름은 축약해서 나타내는 `shorten`함수를 작성해보세요.\n",
    "\n",
    "예시)\n",
    "\n",
    "```python\n",
    "shorten('Alice Betty Catherine Davis') #=> Alice B. C. Davis\n",
    "```"
   ]
  },
  {
   "cell_type": "code",
   "execution_count": null,
   "metadata": {},
   "outputs": [],
   "source": [
    "# 여기에 코드를 작성하세요.\n",
    "def shorten(name):\n",
    "    rename=name.split()\n",
    "    for i in range(1,len(rename)-1):\n",
    "            rename[i]=rename[i][0]+'.'\n",
    "    return \" \".join(rename)\n",
    "\n",
    "\n",
    "\n",
    "    "
   ]
  },
  {
   "cell_type": "code",
   "execution_count": null,
   "metadata": {},
   "outputs": [],
   "source": [
    "# 해당 코드를 통해 올바른 결과가 나오는지 확인하세요.\n",
    "print(shorten('Alice Betty Catherine Davis')) #=> Alice B. C. Davis"
   ]
  },
  {
   "cell_type": "markdown",
   "metadata": {},
   "source": [
    "# 알파벳만 남기고 뒤집기\n",
    "\n",
    "> 문자열이 주어지면, 해당 문자열 중에서 알파벳이 아닌 문자는 전부 빼고 거꾸로 뒤집어 반환하는 함수 `revers_letter`를 작성하세요.\n",
    "\n",
    "예시)\n",
    "\n",
    "```python\n",
    "reverse_letter(\"krishan\") #=> \"nahsirk\"\n",
    "reverse_letter(\"ultr53o?n\") #=> \"nortlu\"\n",
    "reverse_letter('asdf?.,/') #=> \"fdsa\"\n",
    "```"
   ]
  },
  {
   "cell_type": "code",
   "execution_count": null,
   "metadata": {},
   "outputs": [],
   "source": [
    "# 여기에 코드를 작성하세요.\n",
    "def reverse_letter(string):\n",
    "    lst1=list(string)\n",
    "    lst1.reverse()\n",
    "    \n",
    "    for i in string:\n",
    "        if not i.isalpha():\n",
    "            lst1.remove(i)\n",
    "    \n",
    "    return lst1\n",
    "            \n",
    "    "
   ]
  },
  {
   "cell_type": "code",
   "execution_count": null,
   "metadata": {},
   "outputs": [],
   "source": [
    "# 해당 코드를 통해 올바른 결과가 나오는지 확인하세요.\n",
    "print(reverse_letter(\"krishan\"))\n",
    "print(reverse_letter(\"ultr53o?n\"))\n",
    "print(reverse_letter('asdf?.,/'))"
   ]
  },
  {
   "cell_type": "markdown",
   "metadata": {},
   "source": [
    "# 숫자가 좋아\n",
    "\n",
    "> 스트링과 함께 섞여있는 문자열들 속에서 정수만 뽑아내 합을 반환하는 함수 `pick_and_sum`를 작성하세요.\n",
    "\n",
    "예시)\n",
    "```python\n",
    "pick_and_sum(\"an8nt12\") #=> 20\n",
    "pick_and_sum(\"The30quick20brown10f0x1203jumps914ov3r1349the102l4zy dog\") #=> 3635\n",
    "```"
   ]
  },
  {
   "cell_type": "code",
   "execution_count": null,
   "metadata": {},
   "outputs": [],
   "source": [
    "# 여기에 코드를 작성하세요.\n",
    "def pick_and_sum(s):\n",
    "    sum=0\n",
    "    lst2=list(s)\n",
    "    for k,i in enumerate(s):\n",
    "        if not i.isdecimal():\n",
    "            lst2[k]=' '\n",
    "    lst3=list(\"\".join(lst2).split())\n",
    "    \n",
    "    for j in lst3:\n",
    "        sum+=int(j)\n",
    "    return sum\n"
   ]
  },
  {
   "cell_type": "code",
   "execution_count": null,
   "metadata": {},
   "outputs": [],
   "source": [
    "# 해당 코드를 통해 올바른 결과가 나오는지 확인하세요.\n",
    "print(pick_and_sum(\"an8nt12\"))\n",
    "print(pick_and_sum(\"The30quick20brown10f0x1203jumps914ov3r1349the102l4zy dog\"))"
   ]
  },
  {
   "cell_type": "code",
   "execution_count": null,
   "metadata": {},
   "outputs": [],
   "source": []
  }
 ],
 "metadata": {
  "kernelspec": {
   "display_name": "Python 3",
   "language": "python",
   "name": "python3"
  },
  "language_info": {
   "codemirror_mode": {
    "name": "ipython",
    "version": 3
   },
   "file_extension": ".py",
   "mimetype": "text/x-python",
   "name": "python",
   "nbconvert_exporter": "python",
   "pygments_lexer": "ipython3",
   "version": "3.7.1"
  },
  "toc": {
   "base_numbering": 1,
   "nav_menu": {},
   "number_sections": true,
   "sideBar": true,
   "skip_h1_title": false,
   "title_cell": "Table of Contents",
   "title_sidebar": "Contents",
   "toc_cell": false,
   "toc_position": {},
   "toc_section_display": true,
   "toc_window_display": false
  }
 },
 "nbformat": 4,
 "nbformat_minor": 2
}
