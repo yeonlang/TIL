{
 "cells": [
  {
   "cell_type": "markdown",
   "metadata": {},
   "source": [
    "# 문자열 계산하기\n",
    "\n",
    "> 아래와 같이 문자열이 주어졌을 때, 바보같은 사용자를 위해 계산을 해주려고 한다.\n",
    ">\n",
    "> 이 계산기는 더하기와 빼기밖에 못한다.\n",
    ">\n",
    "> `calc(equation)`을 만들어봅시다.\n",
    "\n",
    "---\n",
    "\n",
    "예시)\n",
    "\n",
    "```python\n",
    "calc('123+2-124') #=> 1\n",
    "calc('-12+12-7979+9191') #=> 1212\n",
    "calc('+1-1+1-1+1-1+1-1+1-1+1-1+1-1+1-1+1-1+1-1+1-1+1-1+1-1+1-1+1-1+1-1') #=> 0\n",
    "```"
   ]
  },
  {
   "cell_type": "code",
   "execution_count": null,
   "metadata": {},
   "outputs": [],
   "source": [
    "# # 여기에 코드를 작성하세요\n",
    "# def calc(equation):\n",
    "#     result=0\n",
    "#     a=list(equation.split('+'))\n",
    "#     c=[0 for k in range(len(a))]\n",
    "#     for v,i in enumerate(a):\n",
    "#         b=list(i.split('-'))\n",
    "#         for j in range(len(b)):\n",
    "#             if b[j]!='': \n",
    "#                 if j==0:\n",
    "#                     c[v]+=int(b[j])\n",
    "#                 else:\n",
    "#                     c[v]-=int(b[j])\n",
    "#     for u in range(len(c)):\n",
    "#         result+=c[u]\n",
    "#     return result\n",
    "\n",
    "# def calc(a):\n",
    "#     count=0\n",
    "#     result=0\n",
    "#     equation=list(a)\n",
    "#     if equation[0].isdecimal==True:\n",
    "#         equation.insert(0,'+')\n",
    "\n",
    "#     mystr=''\n",
    "#     for u,k in enumerate(equation):\n",
    "#         if (u==0)and(k.isdecimal()==False):\n",
    "#             mystr+=k\n",
    "#         elif k.isdecimal()==False:\n",
    "#             result+=int(mystr)\n",
    "#             mystr=''\n",
    "#             mystr+=k\n",
    "#         if k.isdecimal():\n",
    "#             mystr+=k\n",
    "#         if u==len(equation)-1:\n",
    "#             result+=int(mystr)\n",
    "    \n",
    "#     return result\n",
    "\n",
    "def calc(a):\n",
    "    a=a.replace('+',' +')\n",
    "    a=a.replace('-',' -')\n",
    "    result=list(map(int,a.split()))\n",
    "    return sum(result)\n",
    "         \n",
    "  \n",
    "    \n",
    "    "
   ]
  },
  {
   "cell_type": "code",
   "execution_count": null,
   "metadata": {},
   "outputs": [],
   "source": []
  },
  {
   "cell_type": "code",
   "execution_count": null,
   "metadata": {},
   "outputs": [],
   "source": [
    "# 해당 코드를 통해 올바른 결과가 나오는지 확인하세요.\n",
    "print(calc('123+2-124'))\n",
    "print(calc('-12+12-7979+9191'))\n",
    "print(calc('+1-1+1-1+1-1+1-1+1-1+1-1+1-1+1-1+1-1+1-1+1-1+1-1+1-1+1-1+1-1+1-1'))"
   ]
  },
  {
   "cell_type": "markdown",
   "metadata": {},
   "source": [
    "# 나만의 딕셔너리 생성기\n",
    "\n",
    "> key의 리스트와 value의 리스트로 딕셔너리를 생성하여 return 하는 `create_dict(keys, values)` 함수를 작성하세요.\n",
    ">\n",
    ">만약에 value의 갯수가 key의 갯수보다 부족한 경우, None을 채워 넣어야 합니다. 반대로 key의 갯수가 부족한 경우, 초과하는 value들은 무시해도 됩니다.\n",
    "\n",
    "예시)\n",
    "```python\n",
    "create_dict(['a', 'b', 'c', 'd'], [1, 2, 3]) #=> {'a': 1, 'b': 2, 'c': 3, 'd': None}\n",
    "create_dict(['a', 'b', 'c'], [1, 2, 3, 4]) #=> {'a': 1, 'b': 2, 'c': 3}\n",
    "```"
   ]
  },
  {
   "cell_type": "code",
   "execution_count": null,
   "metadata": {},
   "outputs": [],
   "source": [
    "# 여기에 코드를 작성하세요.\n",
    "def create_dict(keys, values):\n",
    "    while len(values)<len(keys):\n",
    "        values.append(None)\n",
    "    return dict(zip(keys,values))"
   ]
  },
  {
   "cell_type": "code",
   "execution_count": null,
   "metadata": {},
   "outputs": [],
   "source": [
    "# 해당 코드를 통해 올바른 결과가 나오는지 확인하세요.\n",
    "print(create_dict(['a', 'b', 'c', 'd'], [1, 2, 3]))\n",
    "print(create_dict(['a', 'b', 'c'], [1, 2, 3, 4]))"
   ]
  },
  {
   "cell_type": "markdown",
   "metadata": {},
   "source": [
    "# 시험 채점 시스템\n",
    "\n",
    "> 첫 번째 인자는 정답이 들어있는 리스트, 두 번째 인자는 사용자의 답이 들어있는 리스트입니다. 두 리스트는 비어있지 않으며 길이가 같습니다.\n",
    ">\n",
    "> 정답의 경우 +4점, 오답의 경우 -1점, 공백 응답(빈 문자열)의 경우 0점입니다. 만약, 점수가 0보다 작으면 0을 return 합니다.\n",
    ">\n",
    "> 위와 같이 시험 점수를 체크하는 함수 `check_score(real_answers, my_answers)` 을 작성하세요.\n",
    "\n",
    "예시)\n",
    "\n",
    "```python\n",
    "check_score([\"a\", \"a\", \"b\", \"b\"], [\"a\", \"c\", \"b\", \"d\"]) #=> 6\n",
    "check_score([\"a\", \"a\", \"c\", \"b\"], [\"a\", \"a\", \"b\", \"\"]) #=> 7\n",
    "check_score([\"a\", \"a\", \"b\", \"c\"], [\"a\", \"a\", \"b\", \"c\"]) #=> 16\n",
    "check_score([\"b\", \"c\", \"b\", \"a\"], [\"\", \"a\", \"a\", \"c\"]) #=> 0\n",
    "```"
   ]
  },
  {
   "cell_type": "code",
   "execution_count": 9,
   "metadata": {},
   "outputs": [],
   "source": [
    "# 여기에 코드를 작성하세요.\n",
    "# def check_score(real_answers, my_answers):\n",
    "#     result=0\n",
    "#     mydict=tuple(zip(real_answers,my_answers))\n",
    "#     for i,j in mydict:\n",
    "#         if i==j:\n",
    "#             result+=4\n",
    "#         elif j=='':\n",
    "#             continue\n",
    "#         else :\n",
    "#             result-=1\n",
    "#     if result<0:\n",
    "#         result=0\n",
    "#     return result\n",
    "\n",
    "def check_score(real_answers, my_answers):\n",
    "    return max(0, sum([4 if r == m else -1 for r, m in zip(real_answers, my_answers) if m]))"
   ]
  },
  {
   "cell_type": "code",
   "execution_count": 10,
   "metadata": {},
   "outputs": [
    {
     "name": "stdout",
     "output_type": "stream",
     "text": [
      "6\n",
      "7\n",
      "16\n",
      "0\n"
     ]
    }
   ],
   "source": [
    "# 해당 코드를 통해 올바른 결과가 나오는지 확인하세요.\n",
    "print(check_score([\"a\", \"a\", \"b\", \"b\"], [\"a\", \"c\", \"b\", \"d\"]))\n",
    "print(check_score([\"a\", \"a\", \"c\", \"b\"], [\"a\", \"a\", \"b\", \"\"]))\n",
    "print(check_score([\"a\", \"a\", \"b\", \"c\"], [\"a\", \"a\", \"b\", \"c\"]))\n",
    "print(check_score([\"b\", \"c\", \"b\", \"a\"], [\"\", \"a\", \"a\", \"c\"]))"
   ]
  },
  {
   "cell_type": "code",
   "execution_count": null,
   "metadata": {},
   "outputs": [],
   "source": [
    "#3752 가능한 시험점수\n",
    "T = int(input()) for t in range(T):\n",
    "    N = int(input()) \n",
    "    List = input() \n",
    "    List = List.split() \n",
    "    List = list(map(int, List)) \n",
    "    temp = set([0]) \n",
    "    Set = set([0]) \n",
    "    for i in List:\n",
    "        for j in temp:\n",
    "            Set.add(i+j)\n",
    "            temp.update(Set) \n",
    "            print(\"#%d %d\" %(t+1, len(Set)))"
   ]
  },
  {
   "cell_type": "code",
   "execution_count": null,
   "metadata": {},
   "outputs": [],
   "source": []
  },
  {
   "cell_type": "code",
   "execution_count": null,
   "metadata": {},
   "outputs": [],
   "source": [
    "#for test_case in range(1, T + 1):\n",
    "#     n=input()\n",
    "m=list(map(int,list(input())))\n",
    "mydic=dict(zip(m,[0 for i in m]))\n",
    "for i in m:\n",
    "    mydic[i]+=1\n",
    "\n",
    "a=sorted(mydic.items(), key=lambda x: x[1], reverse=True)\n",
    "if (a[0][1]==a[1][1])and(a[0][0]==0):\n",
    "    print(f'#{test_case} {a[1][0]} {a[1][1]}')\n",
    "else :\n",
    "    print(f'#{test_case} {a[0][0]} {a[0][1]}') \n",
    "\n",
    "    #     print(f'#{test_case} {a[0][0]} {a[0][1]}')\n",
    "    "
   ]
  },
  {
   "cell_type": "code",
   "execution_count": 11,
   "metadata": {},
   "outputs": [
    {
     "name": "stdout",
     "output_type": "stream",
     "text": [
      "1 2 3 4 5 6 7 8 9 10\n",
      "21\n"
     ]
    }
   ],
   "source": [
    "T = int(input())\n",
    "for test_case in range(1, T + 1):\n",
    "    x,y = map(int, input().split())\n",
    "    n = list(map(int,input().split()))\n",
    "    m = [ 0 for i in range(len(n)-y+2)]\n",
    "    for i in range(len(m)):\n",
    "        m[i]=sum(n[i:i+y])\n",
    "    m.sort()\n",
    "    print(f'#{test_case} {m[-1]-m[0]}')\n"
   ]
  }
 ],
 "metadata": {
  "kernelspec": {
   "display_name": "Python 3",
   "language": "python",
   "name": "python3"
  },
  "language_info": {
   "codemirror_mode": {
    "name": "ipython",
    "version": 3
   },
   "file_extension": ".py",
   "mimetype": "text/x-python",
   "name": "python",
   "nbconvert_exporter": "python",
   "pygments_lexer": "ipython3",
   "version": "3.7.1"
  },
  "toc": {
   "base_numbering": 1,
   "nav_menu": {},
   "number_sections": true,
   "sideBar": true,
   "skip_h1_title": false,
   "title_cell": "Table of Contents",
   "title_sidebar": "Contents",
   "toc_cell": false,
   "toc_position": {},
   "toc_section_display": true,
   "toc_window_display": false
  }
 },
 "nbformat": 4,
 "nbformat_minor": 2
}
