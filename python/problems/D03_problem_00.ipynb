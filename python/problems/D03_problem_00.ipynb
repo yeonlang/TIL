{
 "cells": [
  {
   "cell_type": "markdown",
   "metadata": {},
   "source": [
    "# `abs()`\n",
    "\n",
    "> 절대값은 숫자(int, float)가 들어오면 절대값을 반환하고, 복소수(complex)가 들어오면 그 크기를 반환합니다.\n",
    "> \n",
    "> `my_abs(x)`를 만들어보세요."
   ]
  },
  {
   "cell_type": "markdown",
   "metadata": {},
   "source": [
    "**공식문서**\n",
    "<center>\n",
    "    <img src=\"./images/P01/abs0.png\", alt=\"\">\n",
    "</center>"
   ]
  },
  {
   "cell_type": "markdown",
   "metadata": {},
   "source": [
    "**복소수 크기 구하는법**\n",
    "<center>\n",
    "    <img src=\"./images/P01/abs.png\", alt=\"\">\n",
    "</center>"
   ]
  },
  {
   "cell_type": "code",
   "execution_count": null,
   "metadata": {
    "scrolled": true
   },
   "outputs": [],
   "source": [
    "# 예제 입력 및 출력\n",
    "print(abs(3+4j), abs(-0.0), abs(-5))\n",
    "import math\n",
    "\n",
    "def my_abs(a):\n",
    "           \n",
    "    if (str(type(a))==\"<class 'int'>\") :\n",
    "        if a<0 :       \n",
    "            return -a\n",
    "    if (str(type(a))==\"<class 'float'>\") :\n",
    "        if not a>0 :\n",
    "            a=-a+1\n",
    "            return a-1 \n",
    "    if (str(type(a))==\"<class 'complex'>\") :\n",
    "        a=(a.real*a.real+a.imag*a.imag)\n",
    "        a=math.sqrt(a)\n",
    "        return a\n",
    "    return a\n",
    "a =  -0.0\n",
    "\n",
    "\n",
    "\n",
    "print(my_abs(a))\n"
   ]
  },
  {
   "cell_type": "code",
   "execution_count": null,
   "metadata": {},
   "outputs": [],
   "source": [
    "# 아래에 코드를 작성해주세요."
   ]
  },
  {
   "cell_type": "code",
   "execution_count": null,
   "metadata": {},
   "outputs": [],
   "source": [
    "# 결과 확인\n",
    "print(my_abs(3+4j), my_abs(-0.0), my_abs(-5))"
   ]
  },
  {
   "cell_type": "markdown",
   "metadata": {},
   "source": [
    "# `all(x)`\n",
    "\n",
    "> all은 인자로 받는 iterable(range, list)의 모든 요소가 참이거나 비어있으면 True를 반환합니다.\n",
    ">\n",
    "> 이와 같은 `my_all(x)`을 작성해보세요"
   ]
  },
  {
   "cell_type": "code",
   "execution_count": null,
   "metadata": {},
   "outputs": [],
   "source": [
    "# 예제 입력 및 출력\n",
    "print(all([1, 2, 5, '6']))\n",
    "print(all([[], 2, 5, '6']))\n",
    "print(all([]))"
   ]
  },
  {
   "cell_type": "code",
   "execution_count": null,
   "metadata": {},
   "outputs": [],
   "source": [
    "# 아래에 코드를 작성해주세요.\n",
    "def my_all(lst):\n",
    "    if lst :\n",
    "        for i in lst :\n",
    "            if not i :\n",
    "                return False\n",
    "    \n",
    "    return True\n"
   ]
  },
  {
   "cell_type": "code",
   "execution_count": null,
   "metadata": {},
   "outputs": [],
   "source": [
    "# 결과 확인\n",
    "print(my_all([1, 2, 5, '6']))\n",
    "print(my_all([[], 2, 5, '6']))\n",
    "print(my_all([]))"
   ]
  },
  {
   "cell_type": "markdown",
   "metadata": {},
   "source": [
    "# `any(x)`\n",
    "\n",
    "> any는 인자로 받는 iterable(range, list)의 요소 중 하나라도 참이면 True를 반환하고, 비어있으면 False를 반환합니다.\n",
    ">\n",
    "> 이와 같은 `my_any(x)`를 작성해보세요."
   ]
  },
  {
   "cell_type": "code",
   "execution_count": null,
   "metadata": {},
   "outputs": [],
   "source": [
    "# 예제 입력 및 출력\n",
    "print(any([1, 2, 5, '6']))\n",
    "print(any([[], 2, 5, '6']))\n",
    "print(any([0]))"
   ]
  },
  {
   "cell_type": "code",
   "execution_count": null,
   "metadata": {},
   "outputs": [],
   "source": [
    "# 아래에 코드를 작성해주세요.\n",
    "def my_any(lst):\n",
    "    for i in lst :\n",
    "        if bool(i) :\n",
    "            return True\n",
    "    \n",
    "    return False"
   ]
  },
  {
   "cell_type": "code",
   "execution_count": null,
   "metadata": {},
   "outputs": [],
   "source": [
    "# 결과 확인\n",
    "print(my_any([1, 2, 5, '6']))\n",
    "print(my_any([[], 2, 5, '6']))\n",
    "print(my_any([0]))"
   ]
  },
  {
   "cell_type": "markdown",
   "metadata": {},
   "source": [
    "# `bin(integer)`\n",
    "\n",
    "> `양의 정수`를 받아서 앞에 '0b'를 붙어 있는 2진수로 표현됩니다.\n",
    ">\n",
    "> 이와 같은 `my_bin(x)`를 작성해보세요.\n",
    "\n",
    "* 음수는 고려하지 않아도 됩니다."
   ]
  },
  {
   "cell_type": "markdown",
   "metadata": {},
   "source": [
    "<center>\n",
    "    <img src=\"./images/P01/bin.png\", alt=\"bin\">\n",
    "</center>"
   ]
  },
  {
   "cell_type": "code",
   "execution_count": null,
   "metadata": {},
   "outputs": [],
   "source": [
    "# bin 예제 입력 및 출력\n",
    "print(bin(4096), bin(5))"
   ]
  },
  {
   "cell_type": "code",
   "execution_count": null,
   "metadata": {},
   "outputs": [],
   "source": [
    "# 아래에 코드를 작성해주세요.\n",
    "#100 100%2 50%2 25%2 12%2 6%2 3%2 1 \n",
    "def my_bin(c):\n",
    "    str1='1'\n",
    "    str0='0'\n",
    "    my_str=''\n",
    "    my_num=int(c)\n",
    "    while my_num :\n",
    "        if my_num==1 :\n",
    "            my_str=str1+my_str\n",
    "            return '0b'+my_str\n",
    "        if not (my_num%2) :\n",
    "            my_str=str0+my_str\n",
    "        if (my_num%2) :\n",
    "            my_str=str1+my_str\n",
    "        my_num=(my_num//2)\n",
    "    return '0b'+my_str\n",
    "\n"
   ]
  },
  {
   "cell_type": "code",
   "execution_count": null,
   "metadata": {},
   "outputs": [],
   "source": [
    "# my_bin 예제 입력 및 출력\n",
    "print(my_bin(991812535))\n",
    "print(my_bin(4096) == bin(4096))\n",
    "print(my_bin(5) == bin(5))"
   ]
  },
  {
   "cell_type": "code",
   "execution_count": 42,
   "metadata": {},
   "outputs": [
    {
     "name": "stdout",
     "output_type": "stream",
     "text": [
      "0b1010\n"
     ]
    }
   ],
   "source": [
    "#재귀함수 이용\n",
    "def my_bin(num,my_str=''):\n",
    "    next_num= (num//2)\n",
    "    if num<2:\n",
    "        my_str=str(num)+my_str\n",
    "        return '0b'+my_str\n",
    "    else :\n",
    "        if num%2 :\n",
    "            my_str='1'+my_str\n",
    "        else :\n",
    "            my_str='0'+my_str\n",
    "        return my_bin(next_num,my_str)\n",
    "        \n",
    "print(my_bin(10))\n",
    "\n"
   ]
  },
  {
   "cell_type": "code",
   "execution_count": 45,
   "metadata": {},
   "outputs": [
    {
     "name": "stdout",
     "output_type": "stream",
     "text": [
      "0b111011000111011101101110110111\n",
      "True\n",
      "True\n"
     ]
    }
   ],
   "source": [
    "print(my_bin(991812535))\n",
    "print(my_bin(4096) == bin(4096))\n",
    "print(my_bin(5) == bin(5))"
   ]
  },
  {
   "cell_type": "code",
   "execution_count": 47,
   "metadata": {},
   "outputs": [
    {
     "name": "stdout",
     "output_type": "stream",
     "text": [
      "0b101\n"
     ]
    }
   ],
   "source": [
    "#반복을 통한 이진수2\n",
    "def loop_my_bin(x):\n",
    "    result = ''\n",
    "    while x > 0:\n",
    "        q = x//2\n",
    "        r = x%2\n",
    "        result =str(r) + result\n",
    "        x = q\n",
    "    return '0b' + result\n",
    "\n",
    "print(loop_my_bin(5))"
   ]
  },
  {
   "cell_type": "code",
   "execution_count": null,
   "metadata": {},
   "outputs": [],
   "source": [
    "#재귀를 통한 이진수 2\n"
   ]
  }
 ],
 "metadata": {
  "kernelspec": {
   "display_name": "Python 3",
   "language": "python",
   "name": "python3"
  },
  "language_info": {
   "codemirror_mode": {
    "name": "ipython",
    "version": 3
   },
   "file_extension": ".py",
   "mimetype": "text/x-python",
   "name": "python",
   "nbconvert_exporter": "python",
   "pygments_lexer": "ipython3",
   "version": "3.7.1"
  },
  "toc": {
   "base_numbering": 1,
   "nav_menu": {},
   "number_sections": true,
   "sideBar": true,
   "skip_h1_title": false,
   "title_cell": "Table of Contents",
   "title_sidebar": "Contents",
   "toc_cell": false,
   "toc_position": {},
   "toc_section_display": true,
   "toc_window_display": false
  }
 },
 "nbformat": 4,
 "nbformat_minor": 2
}
