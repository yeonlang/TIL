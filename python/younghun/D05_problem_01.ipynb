{
 "cells": [
  {
   "cell_type": "markdown",
   "metadata": {},
   "source": [
    "# 미들 네임\n",
    "\n",
    "> 영어 이름은 가운데 이름을 가지고 있는 경우가 있습니다.\n",
    ">\n",
    "> 가운데 이름은 축약해서 나타내는 `shorten`함수를 작성해보세요.\n",
    "\n",
    "예시)\n",
    "\n",
    "```python\n",
    "shorten('Alice Betty Catherine Davis') #=> Alice B. C. Davis\n",
    "```"
   ]
  },
  {
   "cell_type": "code",
   "execution_count": 4,
   "metadata": {},
   "outputs": [],
   "source": [
    "# 여기에 코드를 작성하세요.\n",
    "def shorten(name):\n",
    "    rename=name.split()\n",
    "    for i in range(1,len(rename)-1):\n",
    "        rename[i]=rename[i][0]+'.'\n",
    "    return \" \".join(rename)\n",
    "#    shorten('Alice Betty Catherine Davis')"
   ]
  },
  {
   "cell_type": "code",
   "execution_count": 2,
   "metadata": {},
   "outputs": [],
   "source": [
    "def shorten(name):\n",
    "    name_list=name.split()\n",
    "    for i in range(1, len(name_list) -1):\n",
    "        name_list[i] = name_list[i][0]+'.'\n",
    "    return ' '.join(name_list)"
   ]
  },
  {
   "cell_type": "code",
   "execution_count": 5,
   "metadata": {},
   "outputs": [
    {
     "name": "stdout",
     "output_type": "stream",
     "text": [
      "Alice B. C. Davis\n"
     ]
    }
   ],
   "source": [
    "# 해당 코드를 통해 올바른 결과가 나오는지 확인하세요.\n",
    "print(shorten('Alice Betty Catherine Davis')) #=> Alice B. C. Davis"
   ]
  },
  {
   "cell_type": "markdown",
   "metadata": {},
   "source": [
    "# 알파벳만 남기고 뒤집기\n",
    "\n",
    "> 문자열이 주어지면, 해당 문자열 중에서 알파벳이 아닌 문자는 전부 빼고 거꾸로 뒤집어 반환하는 함수 `revers_letter`를 작성하세요.\n",
    "\n",
    "예시)\n",
    "\n",
    "```python\n",
    "reverse_letter(\"krishan\") #=> \"nahsirk\"\n",
    "reverse_letter(\"ultr53o?n\") #=> \"nortlu\"\n",
    "reverse_letter('asdf?.,/') #=> \"fdsa\"\n",
    "```"
   ]
  },
  {
   "cell_type": "code",
   "execution_count": 9,
   "metadata": {},
   "outputs": [],
   "source": [
    "# 여기에 코드를 작성하세요.\n",
    "def reverse_letter(string):\n",
    "    lst1=list(string)\n",
    "    lst1.reverse()\n",
    "    for i in string:\n",
    "        if not i.isalpha():\n",
    "            lst1.remove(i)\n",
    "    return lst1"
   ]
  },
  {
   "cell_type": "code",
   "execution_count": 13,
   "metadata": {},
   "outputs": [],
   "source": [
    "def reverse_letter(string):\n",
    "    result = ''\n",
    "    for char in string:\n",
    "        if char.isalpha():\n",
    "            result += char\n",
    "    return result[::-1]"
   ]
  },
  {
   "cell_type": "code",
   "execution_count": 15,
   "metadata": {},
   "outputs": [],
   "source": [
    "def reverse_letter(string):\n",
    "    result = [c for c in string if c.isalpha()]\n",
    "    return ''.join(reversed(result))\n",
    "   #result.reverse()\n",
    "   #return ''.join"
   ]
  },
  {
   "cell_type": "code",
   "execution_count": 16,
   "metadata": {},
   "outputs": [
    {
     "name": "stdout",
     "output_type": "stream",
     "text": [
      "nahsirk\n",
      "nortlu\n",
      "fdsa\n"
     ]
    }
   ],
   "source": [
    "# 해당 코드를 통해 올바른 결과가 나오는지 확인하세요.\n",
    "print(reverse_letter(\"krishan\"))\n",
    "print(reverse_letter(\"ultr53o?n\"))\n",
    "print(reverse_letter('asdf?.,/'))"
   ]
  },
  {
   "cell_type": "markdown",
   "metadata": {},
   "source": [
    "# 숫자가 좋아\n",
    "\n",
    "> 스트링과 함께 섞여있는 문자열들 속에서 정수만 뽑아내 합을 반환하는 함수 `pick_and_sum`를 작성하세요.\n",
    "\n",
    "예시)\n",
    "```python\n",
    "pick_and_sum(\"an8nt12\") #=> 20\n",
    "pick_and_sum(\"The30quick20brown10f0x1203jumps914ov3r1349the102l4zy dog\") #=> 3635\n",
    "```"
   ]
  },
  {
   "cell_type": "code",
   "execution_count": 17,
   "metadata": {},
   "outputs": [],
   "source": [
    "# 여기에 코드를 작성하세요.\n",
    "def pick_and_sum(s):\n",
    "    sum=0\n",
    "    lst2=list(s)\n",
    "    for k,i in enumerate(s):\n",
    "        if not i.isdecimal():\n",
    "            lst2[k]=' '\n",
    "    lst3=\"\".join(lst2)\n",
    "    lst4=list(lst3.split())\n",
    "    for j in lst4:\n",
    "        sum+=int(j)\n",
    "    return sum\n",
    "\n",
    "# def pick_and_sum(s):\n",
    "#     sum=0\n",
    "#     lst2=list(s)\n",
    "#     for k,i in enumerate(s):\n",
    "#         if not i.isdecimal():\n",
    "#             lst2[k]=' '\n",
    "#     lst3=list((\"\".join(lst2)).split())\n",
    "#     # lst4=list(lst3.split())\n",
    "#     for j in lst3:\n",
    "#         sum+=int(j)\n",
    "#     return sum"
   ]
  },
  {
   "cell_type": "code",
   "execution_count": 27,
   "metadata": {},
   "outputs": [],
   "source": [
    "def pick_and_sum(s):\n",
    "    for x in s:\n",
    "        if not x.isdigit():\n",
    "            s = s.replace(x, ' ')\n",
    "    return sum([int(n) for n in s.split()])"
   ]
  },
  {
   "cell_type": "code",
   "execution_count": 28,
   "metadata": {},
   "outputs": [
    {
     "name": "stdout",
     "output_type": "stream",
     "text": [
      "20\n",
      "3635\n"
     ]
    }
   ],
   "source": [
    "# 해당 코드를 통해 올바른 결과가 나오는지 확인하세요.\n",
    "print(pick_and_sum(\"an8nt12\"))\n",
    "print(pick_and_sum(\"The30quick20brown10f0x1203jumps914ov3r1349the102l4zy dog\"))"
   ]
  },
  {
   "cell_type": "code",
   "execution_count": 1,
   "metadata": {},
   "outputs": [],
   "source": [
    "def print_list(my_list):\n",
    "    for i in my_list:\n",
    "        print(i)"
   ]
  },
  {
   "cell_type": "code",
   "execution_count": 2,
   "metadata": {},
   "outputs": [],
   "source": [
    "def print_list(my_list):\n",
    "    for i,j in enumerate(my_list):\n",
    "        print(f'index{i}의 값은 : {j}')"
   ]
  },
  {
   "cell_type": "code",
   "execution_count": 4,
   "metadata": {},
   "outputs": [
    {
     "ename": "IndentationError",
     "evalue": "expected an indented block (<ipython-input-4-6d4d4efa3f83>, line 5)",
     "output_type": "error",
     "traceback": [
      "\u001b[1;36m  File \u001b[1;32m\"<ipython-input-4-6d4d4efa3f83>\"\u001b[1;36m, line \u001b[1;32m5\u001b[0m\n\u001b[1;33m    for value in my_dict.values():\u001b[0m\n\u001b[1;37m      ^\u001b[0m\n\u001b[1;31mIndentationError\u001b[0m\u001b[1;31m:\u001b[0m expected an indented block\n"
     ]
    }
   ],
   "source": [
    "for key in my_dict.keys():\n",
    "   \n",
    "for value in my_dict.values():\n",
    "    \n",
    "for key, value in my_dict.items():\n",
    "    "
   ]
  },
  {
   "cell_type": "code",
   "execution_count": 5,
   "metadata": {
    "scrolled": true
   },
   "outputs": [
    {
     "ename": "NameError",
     "evalue": "name 'none' is not defined",
     "output_type": "error",
     "traceback": [
      "\u001b[1;31m---------------------------------------------------------------------------\u001b[0m",
      "\u001b[1;31mNameError\u001b[0m                                 Traceback (most recent call last)",
      "\u001b[1;32m<ipython-input-5-02135ff9133d>\u001b[0m in \u001b[0;36m<module>\u001b[1;34m\u001b[0m\n\u001b[1;32m----> 1\u001b[1;33m \u001b[0mnone\u001b[0m\u001b[1;33m\u001b[0m\u001b[1;33m\u001b[0m\u001b[0m\n\u001b[0m",
      "\u001b[1;31mNameError\u001b[0m: name 'none' is not defined"
     ]
    }
   ],
   "source": [
    "none"
   ]
  },
  {
   "cell_type": "code",
   "execution_count": 13,
   "metadata": {},
   "outputs": [],
   "source": [
    "def my_palin(string):\n",
    "    for i in range(len(string)):\n",
    "        if not string[i]==string[-i+len(string)-1]:\n",
    "            return False\n",
    "    return True"
   ]
  },
  {
   "cell_type": "code",
   "execution_count": 14,
   "metadata": {},
   "outputs": [
    {
     "name": "stdout",
     "output_type": "stream",
     "text": [
      "True\n",
      "True\n"
     ]
    }
   ],
   "source": [
    "print(my_palin('asdfghjkjhgfdsa'))\n",
    "print(my_palin('qscvgyygvcsq'))"
   ]
  },
  {
   "cell_type": "code",
   "execution_count": 24,
   "metadata": {},
   "outputs": [],
   "source": [
    "#또는\n",
    "def my_palin(word):\n",
    "    return word == word[::-1] #s[start:end:step] [::-1] <<< 역순으로 나옴"
   ]
  },
  {
   "cell_type": "code",
   "execution_count": 25,
   "metadata": {},
   "outputs": [
    {
     "name": "stdout",
     "output_type": "stream",
     "text": [
      "True\n",
      "True\n"
     ]
    }
   ],
   "source": [
    "print(my_palin('asdfghjkjhgfdsa'))\n",
    "print(my_palin('qscvgyygvcsq'))"
   ]
  },
  {
   "cell_type": "code",
   "execution_count": 22,
   "metadata": {},
   "outputs": [],
   "source": [
    "#또는\n",
    "def my_palin(word):\n",
    "        list_word = list(word)\n",
    "        for i in range(len(list_word)//2):\n",
    "                if list_word[i] != list_word[-i-1]:\n",
    "                        return False\n",
    "        return True"
   ]
  },
  {
   "cell_type": "code",
   "execution_count": 23,
   "metadata": {},
   "outputs": [
    {
     "name": "stdout",
     "output_type": "stream",
     "text": [
      "True\n",
      "True\n"
     ]
    }
   ],
   "source": [
    "print(my_palin('asdfghjkjhgfdsa'))\n",
    "print(my_palin('qscvgyygvcsq'))"
   ]
  },
  {
   "cell_type": "code",
   "execution_count": 18,
   "metadata": {},
   "outputs": [],
   "source": [
    "# 재귀\n",
    "def is_palindrom(word):\n",
    "    if len(word) < 2:\n",
    "        return True\n",
    "    if word[0] != word[-1]:\n",
    "        return False\n",
    "    return is_palindrom(word[1:-1])"
   ]
  },
  {
   "cell_type": "code",
   "execution_count": 19,
   "metadata": {},
   "outputs": [
    {
     "name": "stdout",
     "output_type": "stream",
     "text": [
      "True\n",
      "True\n"
     ]
    }
   ],
   "source": [
    "print(my_palin('asdfghjkjhgfdsa'))\n",
    "print(my_palin('qscvgyygvcsq'))"
   ]
  },
  {
   "cell_type": "code",
   "execution_count": null,
   "metadata": {},
   "outputs": [],
   "source": []
  }
 ],
 "metadata": {
  "kernelspec": {
   "display_name": "Python 3",
   "language": "python",
   "name": "python3"
  },
  "language_info": {
   "codemirror_mode": {
    "name": "ipython",
    "version": 3
   },
   "file_extension": ".py",
   "mimetype": "text/x-python",
   "name": "python",
   "nbconvert_exporter": "python",
   "pygments_lexer": "ipython3",
   "version": "3.7.1"
  },
  "toc": {
   "base_numbering": 1,
   "nav_menu": {},
   "number_sections": true,
   "sideBar": true,
   "skip_h1_title": false,
   "title_cell": "Table of Contents",
   "title_sidebar": "Contents",
   "toc_cell": false,
   "toc_position": {},
   "toc_section_display": true,
   "toc_window_display": false
  }
 },
 "nbformat": 4,
 "nbformat_minor": 2
}
