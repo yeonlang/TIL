{
 "cells": [
  {
   "cell_type": "code",
   "execution_count": null,
   "metadata": {},
   "outputs": [],
   "source": [
    "print('hi')"
   ]
  },
  {
   "cell_type": "code",
   "execution_count": null,
   "metadata": {},
   "outputs": [],
   "source": [
    "str=input()\n",
    "a=str.split(' ')\n",
    "a[0]=int(a[0])\n",
    "a[1]=int(a[1])\n",
    "print(a[0]+a[1])\n"
   ]
  },
  {
   "cell_type": "code",
   "execution_count": null,
   "metadata": {},
   "outputs": [],
   "source": [
    "from collections import Counter \n",
    "\n",
    "case=int(input())\n",
    "for i in range(1,case+1):\n",
    "    testnum=int(input())\n",
    "    test=list(map(int, input().split()))\n",
    "    cnt = Counter(test)\n",
    "    print(f'#{testnum} {cnt}')\n",
    "\n",
    "\n"
   ]
  },
  {
   "cell_type": "code",
   "execution_count": null,
   "metadata": {},
   "outputs": [],
   "source": [
    "t = int(input())\n",
    "for T in range(t):\n",
    "    n = int(input())\n",
    "    m = 1\n",
    "    arr = [ [0] * n for i in range(n) ]\n",
    "    for i in range(n):\n",
    "        arr[0][i] = m\n",
    "        m+=1\n",
    "    s = n - 1\n",
    "    u = n\n",
    "    while s:\n",
    "        for i in range(s):\n",
    "            arr[n-u+i+1][u-1] = m\n",
    "            m+=1\n",
    "        for i in range(s):\n",
    "            arr[u-1][u-i-2] = m\n",
    "            m+=1\n",
    "        s -= 1\n",
    "        if s==0:\n",
    "            break\n",
    "        for i in range(s):\n",
    "            arr[u-i-2][n-u] = m\n",
    "            m +=1\n",
    "        for i in range(s):\n",
    "            arr[n-u+1][n-u+i+1] = m\n",
    "            m+=1\n",
    "        s -=1\n",
    "        u -=1\n",
    "    print(\"#%d\" %(T+1))\n",
    "    for i in range(n):\n",
    "        for j in range(n):\n",
    "            print(\"%d\" %(arr[i][j]),end = \" \")\n",
    "        print()\n"
   ]
  },
  {
   "cell_type": "code",
   "execution_count": null,
   "metadata": {},
   "outputs": [],
   "source": [
    "def my_func(a):\n",
    "    num=int(a)\n",
    "    if num%2 == 0 :\n",
    "        return 0\n",
    "    if num%2 == 1 :\n",
    "        return num\n",
    "case = int(input())\n",
    "for case_num in range(case) :\n",
    "    lst1=list(map(my_func, input().split()))\n",
    "    int_sum=0\n",
    "    for i in lst1 :\n",
    "        int_sum+=int(i)\n",
    "    print(f'#{case_num+1} {int_sum}')"
   ]
  },
  {
   "cell_type": "code",
   "execution_count": null,
   "metadata": {},
   "outputs": [],
   "source": [
    "# def my_sqrt(x):\n",
    "#     if x==1:\n",
    "#         return 1\n",
    "#     a=1.0\n",
    "#     b=0.0\n",
    "#     count=0\n",
    "#     for i in range(x+1):\n",
    "#         if i**2==x:\n",
    "#             return i\n",
    "#         elif i**2>x:\n",
    "#             b=float(i)\n",
    "#             break\n",
    "    \n",
    "#     while count<200: \n",
    "#         if ((a+b)/2)**2>x:\n",
    "#             b=(a+b)/2\n",
    "#         if ((a+b)/2)**2<x:\n",
    "#             a=(a+b)/2 \n",
    "#         if round(a,6)==round(b,6):\n",
    "#             break\n",
    "#         count+=1\n",
    "#     return round(a,6)\n",
    "\n",
    "def my_sqrt(n):\n",
    "    x, y = 1, n\n",
    "    result = 1\n",
    "    \n",
    "    import math\n",
    "    while not math.isclose(result**2, n):\n",
    "    \n",
    "#     while abs(result**2 - n)>0.000001:\n",
    "        result =(x+y)/2\n",
    "        if result**2<n:\n",
    "            x = result\n",
    "        else :\n",
    "            y=result\n",
    "    return round(result,6)\n",
    "\n"
   ]
  },
  {
   "cell_type": "code",
   "execution_count": null,
   "metadata": {},
   "outputs": [],
   "source": [
    "n,k=map(int,input().split())\n",
    "lst=list(filter(lambda x : int(x)<=k ,input().split()))\n",
    "\n",
    "# my_lst=[i for i in lst if i<=k]\n",
    "# count=0\n",
    "# print(lst)\n",
    "# while k in my_lst:\n",
    "#     my_lst.pop(k)\n",
    "#     count+=1"
   ]
  },
  {
   "cell_type": "code",
   "execution_count": null,
   "metadata": {},
   "outputs": [],
   "source": [
    "#workshop7\n",
    "class Circle():\n",
    "    pi = 3.14\n",
    "    x = 0\n",
    "    y = 0\n",
    "    r = 0\n",
    "    \n",
    "    def area(self):\n",
    "        return self.pi*self.r*self.r\n",
    "    \n",
    "    def circumference(self):\n",
    "        return 2*self.pi*self.r\n",
    "    \n",
    "    def center(self):\n",
    "        return (self.x, self.y)\n",
    "    \n",
    "    def move(self, x, y):\n",
    "        self.x = x\n",
    "        self.y = y\n",
    "\n",
    "mycircle=Circle()\n",
    "mycircle.r=3\n",
    "mycircle.move(2,4)\n",
    "print(mycircle.r,mycircle.circumference())\n"
   ]
  },
  {
   "cell_type": "code",
   "execution_count": null,
   "metadata": {},
   "outputs": [],
   "source": [
    "#homework7\n",
    "x=3\n",
    "type(x)==type(int())\n"
   ]
  },
  {
   "cell_type": "code",
   "execution_count": 2,
   "metadata": {},
   "outputs": [
    {
     "name": "stdout",
     "output_type": "stream",
     "text": [
      "3.0\n"
     ]
    }
   ],
   "source": [
    "num=3+4j\n",
    "print(num.real)\n"
   ]
  },
  {
   "cell_type": "code",
   "execution_count": null,
   "metadata": {},
   "outputs": [],
   "source": []
  }
 ],
 "metadata": {
  "kernelspec": {
   "display_name": "Python 3",
   "language": "python",
   "name": "python3"
  },
  "language_info": {
   "codemirror_mode": {
    "name": "ipython",
    "version": 3
   },
   "file_extension": ".py",
   "mimetype": "text/x-python",
   "name": "python",
   "nbconvert_exporter": "python",
   "pygments_lexer": "ipython3",
   "version": "3.7.1"
  },
  "widgets": {
   "application/vnd.jupyter.widget-state+json": {
    "state": {},
    "version_major": 2,
    "version_minor": 0
   }
  }
 },
 "nbformat": 4,
 "nbformat_minor": 2
}
