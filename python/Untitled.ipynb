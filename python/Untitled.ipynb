{
 "cells": [
  {
   "cell_type": "code",
   "execution_count": null,
   "metadata": {},
   "outputs": [],
   "source": [
    "print('hi')"
   ]
  },
  {
   "cell_type": "code",
   "execution_count": null,
   "metadata": {},
   "outputs": [],
   "source": [
    "str=input()\n",
    "a=str.split(' ')\n",
    "a[0]=int(a[0])\n",
    "a[1]=int(a[1])\n",
    "print(a[0]+a[1])\n"
   ]
  },
  {
   "cell_type": "code",
   "execution_count": null,
   "metadata": {},
   "outputs": [],
   "source": [
    "from collections import Counter \n",
    "\n",
    "case=int(input())\n",
    "for i in range(1,case+1):\n",
    "    testnum=int(input())\n",
    "    test=list(map(int, input().split()))\n",
    "    cnt = Counter(test)\n",
    "    print(f'#{testnum} {cnt}')\n",
    "\n",
    "\n"
   ]
  },
  {
   "cell_type": "code",
   "execution_count": null,
   "metadata": {},
   "outputs": [],
   "source": [
    "t = int(input())\n",
    "for T in range(t):\n",
    "    n = int(input())\n",
    "    m = 1\n",
    "    arr = [ [0] * n for i in range(n) ]\n",
    "    for i in range(n):\n",
    "        arr[0][i] = m\n",
    "        m+=1\n",
    "    s = n - 1\n",
    "    u = n\n",
    "    while s:\n",
    "        for i in range(s):\n",
    "            arr[n-u+i+1][u-1] = m\n",
    "            m+=1\n",
    "        for i in range(s):\n",
    "            arr[u-1][u-i-2] = m\n",
    "            m+=1\n",
    "        s -= 1\n",
    "        if s==0:\n",
    "            break\n",
    "        for i in range(s):\n",
    "            arr[u-i-2][n-u] = m\n",
    "            m +=1\n",
    "        for i in range(s):\n",
    "            arr[n-u+1][n-u+i+1] = m\n",
    "            m+=1\n",
    "        s -=1\n",
    "        u -=1\n",
    "    print(\"#%d\" %(T+1))\n",
    "    for i in range(n):\n",
    "        for j in range(n):\n",
    "            print(\"%d\" %(arr[i][j]),end = \" \")\n",
    "        print()\n"
   ]
  },
  {
   "cell_type": "code",
   "execution_count": 9,
   "metadata": {},
   "outputs": [
    {
     "name": "stdout",
     "output_type": "stream",
     "text": [
      "3\n",
      "1 2 3 4 5 6\n",
      "#1 9\n",
      "2 3 4 5 6 9\n",
      "#2 17\n",
      "1 2 3\n",
      "#3 4\n"
     ]
    }
   ],
   "source": [
    "def my_func(a):\n",
    "    num=int(a)\n",
    "    if num%2 == 0 :\n",
    "        return 0\n",
    "    if num%2 == 1 :\n",
    "        return num\n",
    "case = int(input())\n",
    "for case_num in range(case) :\n",
    "    lst1=list(map(my_func, input().split()))\n",
    "    int_sum=0\n",
    "    for i in lst1 :\n",
    "        int_sum+=int(i)\n",
    "    print(f'#{case_num+1} {int_sum}')"
   ]
  }
 ],
 "metadata": {
  "kernelspec": {
   "display_name": "Python 3",
   "language": "python",
   "name": "python3"
  },
  "language_info": {
   "codemirror_mode": {
    "name": "ipython",
    "version": 3
   },
   "file_extension": ".py",
   "mimetype": "text/x-python",
   "name": "python",
   "nbconvert_exporter": "python",
   "pygments_lexer": "ipython3",
   "version": "3.7.2"
  },
  "widgets": {
   "application/vnd.jupyter.widget-state+json": {
    "state": {},
    "version_major": 2,
    "version_minor": 0
   }
  }
 },
 "nbformat": 4,
 "nbformat_minor": 2
}
