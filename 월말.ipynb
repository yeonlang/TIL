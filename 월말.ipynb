{
 "cells": [
  {
   "cell_type": "code",
   "execution_count": null,
   "metadata": {},
   "outputs": [],
   "source": [
    "class Point:\n",
    "    def __init__(self, x, y):\n",
    "        self.x=x\n",
    "        self.y=y    \n",
    "    \n",
    "class Circle:\n",
    "    def __init__(self, center, r):\n",
    "        self.center=center\n",
    "        self.r=r\n",
    "    \n",
    "    def get_area(self):\n",
    "        return self.r**2*3.14\n",
    "    def get_perimeter(self):\n",
    "        return self.r*2*3.14\n",
    "    def get_center(self):\n",
    "        return (self.center.x,self.center.y)\n",
    "    def print(self):\n",
    "        print(f'Circle: {self.get_center()}, r: {self.r}')\n",
    "    \n",
    "p1 = Point(0, 0) \n",
    "c1 = Circle(p1, 3) \n",
    "print(c1.get_area()) \n",
    "print(c1.get_perimeter()) \n",
    "print(c1.get_center()) \n",
    "c1.print() \n",
    "p2 = Point(4, 5) \n",
    "c2 = Circle(p2, 1) \n",
    "print(c2.get_area()) \n",
    "print(c2.get_perimeter()) \n",
    "print(c2.get_center()) \n",
    "c2.print()\n",
    "    "
   ]
  },
  {
   "cell_type": "code",
   "execution_count": 4,
   "metadata": {},
   "outputs": [
    {
     "name": "stdout",
     "output_type": "stream",
     "text": [
      "10 + 20 = 30\n",
      "10 - 20 = -10\n",
      "10 * 20 = 200\n",
      "10 * 10 = 100\n",
      "10 + 20 = 30\n",
      "10 - 20 = -10\n",
      "10 * 20 = 200\n",
      "2 2 3\n",
      "2 2 3\n"
     ]
    }
   ],
   "source": [
    "a=4\n",
    "class Calculator:\n",
    "    count_add=0\n",
    "    count_min=0\n",
    "    count_mul=0\n",
    "    \n",
    "    def Add(self, a, b):\n",
    "        Calculator.count_add+=1\n",
    "        self.count_add+=1\n",
    "        return a+b\n",
    "    def Min(self, a, b):\n",
    "        Calculator.count_min+=1\n",
    "        return a-b\n",
    "    def Mul(self, a, b):\n",
    "        Calculator.count_mul+=1\n",
    "        return a*b\n",
    "    def ShowCount(self):\n",
    "        print(Calculator.count_add, Calculator.count_min, Calculator.count_mul)\n",
    "\n",
    "    \n",
    "cal1 = Calculator()\n",
    "cal2 = Calculator()\n",
    "print(\"10 + 20 = %s\" %cal1.Add(10,20))\n",
    "print(\"10 - 20 = %s\" %cal1.Min(10,20))\n",
    "print(\"10 * 20 = %s\" %cal1.Mul(10,20))\n",
    "print(\"10 * 10 = %s\" %cal1.Mul(10,10))\n",
    "print(\"10 + 20 = %s\" %cal2.Add(10,20))\n",
    "print(\"10 - 20 = %s\" %cal2.Min(10,20))\n",
    "print(\"10 * 20 = %s\" %cal2.Mul(10,20))\n",
    "cal1.ShowCount()\n",
    "cal1.\n",
    "cal2.ShowCount()\n",
    "        \n",
    "    "
   ]
  },
  {
   "cell_type": "code",
   "execution_count": 24,
   "metadata": {},
   "outputs": [
    {
     "name": "stdout",
     "output_type": "stream",
     "text": [
      "2\n",
      "3\n",
      "3\n",
      "None\n"
     ]
    }
   ],
   "source": [
    "class Stack:\n",
    "    stack=[]\n",
    "    def empty(self):\n",
    "        if not self.stack:\n",
    "            return False\n",
    "    def top(self):\n",
    "        if self.stack:\n",
    "            return self.stack[-1]\n",
    "        else :\n",
    "            return None\n",
    "    def pop(self):\n",
    "        if self.stack:\n",
    "            return self.stack.pop()\n",
    "        else :\n",
    "            return None\n",
    "    def push(self,data):\n",
    "        self.stack.append(data)\n",
    "\n",
    "s1=Stack()\n",
    "s1.push(3)\n",
    "s1.push(2)\n",
    "print(s1.pop())\n",
    "print(s1.top())\n",
    "print(s1.pop())\n",
    "print(s1.pop())"
   ]
  },
  {
   "cell_type": "code",
   "execution_count": null,
   "metadata": {},
   "outputs": [],
   "source": [
    "my_dict = {'apple': '사과', 'banana': '바나나'}\n",
    "my_dict.update({'juc':3})\n",
    "\n",
    "print(my_dict)"
   ]
  },
  {
   "cell_type": "code",
   "execution_count": 10,
   "metadata": {},
   "outputs": [
    {
     "name": "stdout",
     "output_type": "stream",
     "text": [
      "['__class__', '__contains__', '__delattr__', '__delitem__', '__dir__', '__doc__', '__eq__', '__format__', '__ge__', '__getattribute__', '__getitem__', '__gt__', '__hash__', '__init__', '__init_subclass__', '__iter__', '__le__', '__len__', '__lt__', '__ne__', '__new__', '__reduce__', '__reduce_ex__', '__repr__', '__setattr__', '__setitem__', '__sizeof__', '__str__', '__subclasshook__', 'clear', 'copy', 'fromkeys', 'get', 'items', 'keys', 'pop', 'popitem', 'setdefault', 'update', 'values']\n"
     ]
    }
   ],
   "source": [
    "dicBase = (('가','깋'), ('나','닣'), ('다','딯'), ('라','맇'), ('마','밓'), ('바','빟'), ('사','싷'),\n",
    "           ('아','잏'), ('자','짛'), ('차','칳'), ('카','킿'), ('타','팋'), ('파','핗'), ('하','힣'))\n",
    "\n",
    "inputWord = ['막', '부모님', '비용', '비행기', '원래', '처리', '최초', '꼴', '좀', '들다', '싶다',\n",
    "            '수출', '계시다', '다', '뒤', '듣다', '함께', '아이', '무척', '보이다', '가지다', '그',\n",
    "            '자르다', '데리다', '마리', '개', '정도', '옳다', '놀이','뜨겁다']\n",
    "\n",
    "lst=[]\n",
    "for i,j in dicBase:\n",
    "    temp=[]\n",
    "    for k in inputWord:\n",
    "        if ord(k[0])>=ord(i) and ord(k[0])<=ord(j):\n",
    "            temp.append(k)\n",
    "    "
   ]
  }
 ],
 "metadata": {
  "kernelspec": {
   "display_name": "Python 3",
   "language": "python",
   "name": "python3"
  },
  "language_info": {
   "codemirror_mode": {
    "name": "ipython",
    "version": 3
   },
   "file_extension": ".py",
   "mimetype": "text/x-python",
   "name": "python",
   "nbconvert_exporter": "python",
   "pygments_lexer": "ipython3",
   "version": "3.7.1"
  }
 },
 "nbformat": 4,
 "nbformat_minor": 2
}
